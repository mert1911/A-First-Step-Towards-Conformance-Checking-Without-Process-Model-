{
 "cells": [
  {
   "cell_type": "markdown",
   "id": "7468e092",
   "metadata": {},
   "source": [
    "# Installations"
   ]
  },
  {
   "cell_type": "code",
   "execution_count": 3,
   "id": "099660fb",
   "metadata": {},
   "outputs": [
    {
     "name": "stdout",
     "output_type": "stream",
     "text": [
      "Requirement already satisfied: pandas in /Users/mert2/.conda/envs/thesis/lib/python3.11/site-packages (2.1.1)\n",
      "Requirement already satisfied: numpy>=1.23.2 in /Users/mert2/.conda/envs/thesis/lib/python3.11/site-packages (from pandas) (1.26.0)\n",
      "Requirement already satisfied: python-dateutil>=2.8.2 in /Users/mert2/.conda/envs/thesis/lib/python3.11/site-packages (from pandas) (2.8.2)\n",
      "Requirement already satisfied: pytz>=2020.1 in /Users/mert2/.conda/envs/thesis/lib/python3.11/site-packages (from pandas) (2023.3.post1)\n",
      "Requirement already satisfied: tzdata>=2022.1 in /Users/mert2/.conda/envs/thesis/lib/python3.11/site-packages (from pandas) (2023.3)\n",
      "Requirement already satisfied: six>=1.5 in /Users/mert2/.conda/envs/thesis/lib/python3.11/site-packages (from python-dateutil>=2.8.2->pandas) (1.16.0)\n",
      "Requirement already satisfied: scikit-learn in /Users/mert2/.conda/envs/thesis/lib/python3.11/site-packages (1.3.1)\n",
      "Collecting scikit-learn\n",
      "  Obtaining dependency information for scikit-learn from https://files.pythonhosted.org/packages/08/5d/e5acecd6e99a6b656e42e7a7b18284e2f9c9f512e8ed6979e1e75d25f05f/scikit_learn-1.3.2-cp311-cp311-macosx_10_9_x86_64.whl.metadata\n",
      "  Downloading scikit_learn-1.3.2-cp311-cp311-macosx_10_9_x86_64.whl.metadata (11 kB)\n",
      "Requirement already satisfied: numpy<2.0,>=1.17.3 in /Users/mert2/.conda/envs/thesis/lib/python3.11/site-packages (from scikit-learn) (1.26.0)\n",
      "Requirement already satisfied: scipy>=1.5.0 in /Users/mert2/.conda/envs/thesis/lib/python3.11/site-packages (from scikit-learn) (1.11.3)\n",
      "Requirement already satisfied: joblib>=1.1.1 in /Users/mert2/.conda/envs/thesis/lib/python3.11/site-packages (from scikit-learn) (1.3.2)\n",
      "Requirement already satisfied: threadpoolctl>=2.0.0 in /Users/mert2/.conda/envs/thesis/lib/python3.11/site-packages (from scikit-learn) (3.2.0)\n",
      "Downloading scikit_learn-1.3.2-cp311-cp311-macosx_10_9_x86_64.whl (10.1 MB)\n",
      "\u001b[2K   \u001b[90m━━━━━━━━━━━━━━━━━━━━━━━━━━━━━━━━━━━━━━━━\u001b[0m \u001b[32m10.1/10.1 MB\u001b[0m \u001b[31m11.3 MB/s\u001b[0m eta \u001b[36m0:00:00\u001b[0m00:01\u001b[0m0:01\u001b[0m\n",
      "\u001b[?25hInstalling collected packages: scikit-learn\n",
      "  Attempting uninstall: scikit-learn\n",
      "    Found existing installation: scikit-learn 1.3.1\n",
      "    Uninstalling scikit-learn-1.3.1:\n",
      "      Successfully uninstalled scikit-learn-1.3.1\n",
      "Successfully installed scikit-learn-1.3.2\n",
      "Requirement already satisfied: pm4py in /Users/mert2/.conda/envs/thesis/lib/python3.11/site-packages (2.7.7)\n",
      "Requirement already satisfied: deprecation in /Users/mert2/.conda/envs/thesis/lib/python3.11/site-packages (from pm4py) (2.1.0)\n",
      "Requirement already satisfied: graphviz in /Users/mert2/.conda/envs/thesis/lib/python3.11/site-packages (from pm4py) (0.20.1)\n",
      "Requirement already satisfied: intervaltree in /Users/mert2/.conda/envs/thesis/lib/python3.11/site-packages (from pm4py) (3.1.0)\n",
      "Requirement already satisfied: lxml in /Users/mert2/.conda/envs/thesis/lib/python3.11/site-packages (from pm4py) (4.9.3)\n",
      "Requirement already satisfied: matplotlib in /Users/mert2/.conda/envs/thesis/lib/python3.11/site-packages (from pm4py) (3.8.0)\n",
      "Requirement already satisfied: networkx in /Users/mert2/.conda/envs/thesis/lib/python3.11/site-packages (from pm4py) (3.1)\n",
      "Requirement already satisfied: numpy in /Users/mert2/.conda/envs/thesis/lib/python3.11/site-packages (from pm4py) (1.26.0)\n",
      "Requirement already satisfied: pandas in /Users/mert2/.conda/envs/thesis/lib/python3.11/site-packages (from pm4py) (2.1.1)\n",
      "Requirement already satisfied: pydotplus in /Users/mert2/.conda/envs/thesis/lib/python3.11/site-packages (from pm4py) (2.0.2)\n",
      "Requirement already satisfied: pytz in /Users/mert2/.conda/envs/thesis/lib/python3.11/site-packages (from pm4py) (2023.3.post1)\n",
      "Requirement already satisfied: scipy in /Users/mert2/.conda/envs/thesis/lib/python3.11/site-packages (from pm4py) (1.11.3)\n",
      "Requirement already satisfied: stringdist in /Users/mert2/.conda/envs/thesis/lib/python3.11/site-packages (from pm4py) (1.0.9)\n",
      "Requirement already satisfied: tqdm in /Users/mert2/.conda/envs/thesis/lib/python3.11/site-packages (from pm4py) (4.66.1)\n",
      "Requirement already satisfied: cvxopt in /Users/mert2/.conda/envs/thesis/lib/python3.11/site-packages (from pm4py) (1.3.2)\n",
      "Requirement already satisfied: packaging in /Users/mert2/.conda/envs/thesis/lib/python3.11/site-packages (from deprecation->pm4py) (23.1)\n",
      "Requirement already satisfied: sortedcontainers<3.0,>=2.0 in /Users/mert2/.conda/envs/thesis/lib/python3.11/site-packages (from intervaltree->pm4py) (2.4.0)\n",
      "Requirement already satisfied: contourpy>=1.0.1 in /Users/mert2/.conda/envs/thesis/lib/python3.11/site-packages (from matplotlib->pm4py) (1.1.1)\n",
      "Requirement already satisfied: cycler>=0.10 in /Users/mert2/.conda/envs/thesis/lib/python3.11/site-packages (from matplotlib->pm4py) (0.12.0)\n",
      "Requirement already satisfied: fonttools>=4.22.0 in /Users/mert2/.conda/envs/thesis/lib/python3.11/site-packages (from matplotlib->pm4py) (4.43.1)\n",
      "Requirement already satisfied: kiwisolver>=1.0.1 in /Users/mert2/.conda/envs/thesis/lib/python3.11/site-packages (from matplotlib->pm4py) (1.4.5)\n",
      "Requirement already satisfied: pillow>=6.2.0 in /Users/mert2/.conda/envs/thesis/lib/python3.11/site-packages (from matplotlib->pm4py) (10.0.1)\n",
      "Requirement already satisfied: pyparsing>=2.3.1 in /Users/mert2/.conda/envs/thesis/lib/python3.11/site-packages (from matplotlib->pm4py) (3.1.1)\n",
      "Requirement already satisfied: python-dateutil>=2.7 in /Users/mert2/.conda/envs/thesis/lib/python3.11/site-packages (from matplotlib->pm4py) (2.8.2)\n",
      "Requirement already satisfied: tzdata>=2022.1 in /Users/mert2/.conda/envs/thesis/lib/python3.11/site-packages (from pandas->pm4py) (2023.3)\n",
      "Requirement already satisfied: six>=1.5 in /Users/mert2/.conda/envs/thesis/lib/python3.11/site-packages (from python-dateutil>=2.7->matplotlib->pm4py) (1.16.0)\n",
      "Requirement already satisfied: kneed in /Users/mert2/.conda/envs/thesis/lib/python3.11/site-packages (0.8.5)\n",
      "Requirement already satisfied: numpy>=1.14.2 in /Users/mert2/.conda/envs/thesis/lib/python3.11/site-packages (from kneed) (1.26.0)\n",
      "Requirement already satisfied: scipy>=1.0.0 in /Users/mert2/.conda/envs/thesis/lib/python3.11/site-packages (from kneed) (1.11.3)\n",
      "Requirement already satisfied: torch in /Users/mert2/.conda/envs/thesis/lib/python3.11/site-packages (2.1.0)\n",
      "Requirement already satisfied: filelock in /Users/mert2/.conda/envs/thesis/lib/python3.11/site-packages (from torch) (3.12.4)\n",
      "Requirement already satisfied: typing-extensions in /Users/mert2/.conda/envs/thesis/lib/python3.11/site-packages (from torch) (4.7.1)\n",
      "Requirement already satisfied: sympy in /Users/mert2/.conda/envs/thesis/lib/python3.11/site-packages (from torch) (1.12)\n",
      "Requirement already satisfied: networkx in /Users/mert2/.conda/envs/thesis/lib/python3.11/site-packages (from torch) (3.1)\n",
      "Requirement already satisfied: jinja2 in /Users/mert2/.conda/envs/thesis/lib/python3.11/site-packages (from torch) (3.1.2)\n",
      "Requirement already satisfied: fsspec in /Users/mert2/.conda/envs/thesis/lib/python3.11/site-packages (from torch) (2023.9.2)\n",
      "Requirement already satisfied: MarkupSafe>=2.0 in /Users/mert2/.conda/envs/thesis/lib/python3.11/site-packages (from jinja2->torch) (2.1.1)\n",
      "Requirement already satisfied: mpmath>=0.19 in /Users/mert2/.conda/envs/thesis/lib/python3.11/site-packages (from sympy->torch) (1.3.0)\n",
      "Collecting gensim\n",
      "  Obtaining dependency information for gensim from https://files.pythonhosted.org/packages/99/f5/8d2cb0b2628bb6482baafbf0ff7262c11fc46e98b23ee79234828b927e8d/gensim-4.3.2-cp311-cp311-macosx_10_9_x86_64.whl.metadata\n",
      "  Downloading gensim-4.3.2-cp311-cp311-macosx_10_9_x86_64.whl.metadata (8.3 kB)\n",
      "Requirement already satisfied: numpy>=1.18.5 in /Users/mert2/.conda/envs/thesis/lib/python3.11/site-packages (from gensim) (1.26.0)\n",
      "Requirement already satisfied: scipy>=1.7.0 in /Users/mert2/.conda/envs/thesis/lib/python3.11/site-packages (from gensim) (1.11.3)\n",
      "Collecting smart-open>=1.8.1 (from gensim)\n",
      "  Obtaining dependency information for smart-open>=1.8.1 from https://files.pythonhosted.org/packages/fc/d9/d97f1db64b09278aba64e8c81b5d322d436132df5741c518f3823824fae0/smart_open-6.4.0-py3-none-any.whl.metadata\n",
      "  Downloading smart_open-6.4.0-py3-none-any.whl.metadata (21 kB)\n",
      "Downloading gensim-4.3.2-cp311-cp311-macosx_10_9_x86_64.whl (24.1 MB)\n"
     ]
    },
    {
     "name": "stdout",
     "output_type": "stream",
     "text": [
      "\u001b[2K   \u001b[90m━━━━━━━━━━━━━━━━━━━━━━━━━━━━━━━━━━━━━━━━\u001b[0m \u001b[32m24.1/24.1 MB\u001b[0m \u001b[31m22.0 MB/s\u001b[0m eta \u001b[36m0:00:00\u001b[0m00:01\u001b[0m00:01\u001b[0m\n",
      "\u001b[?25hUsing cached smart_open-6.4.0-py3-none-any.whl (57 kB)\n",
      "Installing collected packages: smart-open, gensim\n",
      "Successfully installed gensim-4.3.2 smart-open-6.4.0\n"
     ]
    }
   ],
   "source": [
    "# Installations\n",
    "\n",
    "# install once necessary libraries\n",
    "\n",
    "!pip install pandas\n",
    "!pip install -U scikit-learn\n",
    "!pip install pm4py\n",
    "!pip install kneed\n",
    "!pip install torch\n",
    "!pip install gensim"
   ]
  },
  {
   "cell_type": "markdown",
   "id": "460e7954",
   "metadata": {},
   "source": [
    "# Import Event Log"
   ]
  },
  {
   "cell_type": "code",
   "execution_count": 1,
   "id": "b5ae4a69",
   "metadata": {},
   "outputs": [
    {
     "name": "stderr",
     "output_type": "stream",
     "text": [
      "/Users/mert2/.conda/envs/thesis/lib/python3.11/site-packages/pm4py/objects/log/util/dataframe_utils.py:177: UserWarning: Could not infer format, so each element will be parsed individually, falling back to `dateutil`. To ensure parsing is consistent and as-expected, please specify a format.\n",
      "  df[col] = pd.to_datetime(df[col], utc=True)\n",
      "/Users/mert2/.conda/envs/thesis/lib/python3.11/site-packages/pm4py/objects/log/util/dataframe_utils.py:177: UserWarning: Could not infer format, so each element will be parsed individually, falling back to `dateutil`. To ensure parsing is consistent and as-expected, please specify a format.\n",
      "  df[col] = pd.to_datetime(df[col], utc=True)\n",
      "/Users/mert2/.conda/envs/thesis/lib/python3.11/site-packages/pm4py/objects/log/util/dataframe_utils.py:177: UserWarning: Could not infer format, so each element will be parsed individually, falling back to `dateutil`. To ensure parsing is consistent and as-expected, please specify a format.\n",
      "  df[col] = pd.to_datetime(df[col], utc=True)\n",
      "/Users/mert2/.conda/envs/thesis/lib/python3.11/site-packages/pm4py/objects/log/util/dataframe_utils.py:177: UserWarning: Could not infer format, so each element will be parsed individually, falling back to `dateutil`. To ensure parsing is consistent and as-expected, please specify a format.\n",
      "  df[col] = pd.to_datetime(df[col], utc=True)\n",
      "/Users/mert2/.conda/envs/thesis/lib/python3.11/site-packages/pm4py/objects/log/util/dataframe_utils.py:177: UserWarning: Could not infer format, so each element will be parsed individually, falling back to `dateutil`. To ensure parsing is consistent and as-expected, please specify a format.\n",
      "  df[col] = pd.to_datetime(df[col], utc=True)\n",
      "/Users/mert2/.conda/envs/thesis/lib/python3.11/site-packages/pm4py/objects/log/util/dataframe_utils.py:177: UserWarning: Could not infer format, so each element will be parsed individually, falling back to `dateutil`. To ensure parsing is consistent and as-expected, please specify a format.\n",
      "  df[col] = pd.to_datetime(df[col], utc=True)\n",
      "/Users/mert2/.conda/envs/thesis/lib/python3.11/site-packages/pm4py/objects/log/util/dataframe_utils.py:177: UserWarning: Could not infer format, so each element will be parsed individually, falling back to `dateutil`. To ensure parsing is consistent and as-expected, please specify a format.\n",
      "  df[col] = pd.to_datetime(df[col], utc=True)\n",
      "/Users/mert2/.conda/envs/thesis/lib/python3.11/site-packages/pm4py/objects/log/util/dataframe_utils.py:177: UserWarning: Could not infer format, so each element will be parsed individually, falling back to `dateutil`. To ensure parsing is consistent and as-expected, please specify a format.\n",
      "  df[col] = pd.to_datetime(df[col], utc=True)\n",
      "/Users/mert2/.conda/envs/thesis/lib/python3.11/site-packages/pm4py/objects/log/util/dataframe_utils.py:177: UserWarning: Could not infer format, so each element will be parsed individually, falling back to `dateutil`. To ensure parsing is consistent and as-expected, please specify a format.\n",
      "  df[col] = pd.to_datetime(df[col], utc=True)\n"
     ]
    },
    {
     "data": {
      "text/html": [
       "<div>\n",
       "<style scoped>\n",
       "    .dataframe tbody tr th:only-of-type {\n",
       "        vertical-align: middle;\n",
       "    }\n",
       "\n",
       "    .dataframe tbody tr th {\n",
       "        vertical-align: top;\n",
       "    }\n",
       "\n",
       "    .dataframe thead th {\n",
       "        text-align: right;\n",
       "    }\n",
       "</style>\n",
       "<table border=\"1\" class=\"dataframe\">\n",
       "  <thead>\n",
       "    <tr style=\"text-align: right;\">\n",
       "      <th></th>\n",
       "      <th>activity</th>\n",
       "      <th>start</th>\n",
       "      <th>end</th>\n",
       "      <th>type</th>\n",
       "      <th>user</th>\n",
       "      <th>travel_start</th>\n",
       "      <th>travel_end</th>\n",
       "      <th>case</th>\n",
       "      <th>cost</th>\n",
       "      <th>case:concept:name</th>\n",
       "      <th>concept:name</th>\n",
       "      <th>time:timestamp</th>\n",
       "      <th>@@index</th>\n",
       "      <th>@@case_index</th>\n",
       "    </tr>\n",
       "  </thead>\n",
       "  <tbody>\n",
       "    <tr>\n",
       "      <th>0</th>\n",
       "      <td>file travel request</td>\n",
       "      <td>2017-01-17 11:17:00+00:00</td>\n",
       "      <td>2017-01-17 11:23:00+00:00</td>\n",
       "      <td>Employee</td>\n",
       "      <td>JB8510</td>\n",
       "      <td>2017-10-01 00:00:00+00:00</td>\n",
       "      <td>2017-01-15 00:00:00+00:00</td>\n",
       "      <td>105</td>\n",
       "      <td>NaN</td>\n",
       "      <td>105</td>\n",
       "      <td>file travel request</td>\n",
       "      <td>2017-01-17 11:17:00+00:00</td>\n",
       "      <td>0</td>\n",
       "      <td>0</td>\n",
       "    </tr>\n",
       "    <tr>\n",
       "      <th>1</th>\n",
       "      <td>check if travel request needs preliminary pric...</td>\n",
       "      <td>2017-01-17 11:23:00+00:00</td>\n",
       "      <td>2017-01-17 11:24:00+00:00</td>\n",
       "      <td>Employee</td>\n",
       "      <td>JB8510</td>\n",
       "      <td>2017-10-01 00:00:00+00:00</td>\n",
       "      <td>2017-01-15 00:00:00+00:00</td>\n",
       "      <td>105</td>\n",
       "      <td>NaN</td>\n",
       "      <td>105</td>\n",
       "      <td>check if travel request needs preliminary pric...</td>\n",
       "      <td>2017-01-17 11:23:00+00:00</td>\n",
       "      <td>1</td>\n",
       "      <td>0</td>\n",
       "    </tr>\n",
       "    <tr>\n",
       "      <th>2</th>\n",
       "      <td>decide on approval requirements</td>\n",
       "      <td>2017-01-17 11:24:00+00:00</td>\n",
       "      <td>2017-01-17 11:24:00+00:00</td>\n",
       "      <td>Employee</td>\n",
       "      <td>JB8510</td>\n",
       "      <td>2017-10-01 00:00:00+00:00</td>\n",
       "      <td>2017-01-15 00:00:00+00:00</td>\n",
       "      <td>105</td>\n",
       "      <td>NaN</td>\n",
       "      <td>105</td>\n",
       "      <td>decide on approval requirements</td>\n",
       "      <td>2017-01-17 11:24:00+00:00</td>\n",
       "      <td>2</td>\n",
       "      <td>0</td>\n",
       "    </tr>\n",
       "    <tr>\n",
       "      <th>3</th>\n",
       "      <td>check if booking is necessary</td>\n",
       "      <td>2017-01-17 11:24:00+00:00</td>\n",
       "      <td>2017-01-17 11:40:00+00:00</td>\n",
       "      <td>Travel Department</td>\n",
       "      <td>KS9688</td>\n",
       "      <td>2017-10-01 00:00:00+00:00</td>\n",
       "      <td>2017-01-15 00:00:00+00:00</td>\n",
       "      <td>105</td>\n",
       "      <td>NaN</td>\n",
       "      <td>105</td>\n",
       "      <td>check if booking is necessary</td>\n",
       "      <td>2017-01-17 11:24:00+00:00</td>\n",
       "      <td>3</td>\n",
       "      <td>0</td>\n",
       "    </tr>\n",
       "    <tr>\n",
       "      <th>4</th>\n",
       "      <td>check if expense documents exist</td>\n",
       "      <td>2017-01-18 05:59:00+00:00</td>\n",
       "      <td>2017-01-18 06:31:00+00:00</td>\n",
       "      <td>Employee</td>\n",
       "      <td>JB8510</td>\n",
       "      <td>2017-10-01 00:00:00+00:00</td>\n",
       "      <td>2017-01-15 00:00:00+00:00</td>\n",
       "      <td>105</td>\n",
       "      <td>NaN</td>\n",
       "      <td>105</td>\n",
       "      <td>check if expense documents exist</td>\n",
       "      <td>2017-01-18 05:59:00+00:00</td>\n",
       "      <td>4</td>\n",
       "      <td>0</td>\n",
       "    </tr>\n",
       "    <tr>\n",
       "      <th>...</th>\n",
       "      <td>...</td>\n",
       "      <td>...</td>\n",
       "      <td>...</td>\n",
       "      <td>...</td>\n",
       "      <td>...</td>\n",
       "      <td>...</td>\n",
       "      <td>...</td>\n",
       "      <td>...</td>\n",
       "      <td>...</td>\n",
       "      <td>...</td>\n",
       "      <td>...</td>\n",
       "      <td>...</td>\n",
       "      <td>...</td>\n",
       "      <td>...</td>\n",
       "    </tr>\n",
       "    <tr>\n",
       "      <th>55804</th>\n",
       "      <td>confirm travel expense report</td>\n",
       "      <td>2017-11-22 06:48:00+00:00</td>\n",
       "      <td>2017-11-22 06:50:00+00:00</td>\n",
       "      <td>Employee</td>\n",
       "      <td>KI9211</td>\n",
       "      <td>2017-11-19 00:00:00+00:00</td>\n",
       "      <td>2017-11-20 00:00:00+00:00</td>\n",
       "      <td>6348</td>\n",
       "      <td>NaN</td>\n",
       "      <td>6348</td>\n",
       "      <td>confirm travel expense report</td>\n",
       "      <td>2017-11-22 06:48:00+00:00</td>\n",
       "      <td>55804</td>\n",
       "      <td>3353</td>\n",
       "    </tr>\n",
       "    <tr>\n",
       "      <th>55805</th>\n",
       "      <td>decide on travel expense approval</td>\n",
       "      <td>2017-11-22 12:59:00+00:00</td>\n",
       "      <td>2017-11-22 13:06:00+00:00</td>\n",
       "      <td>Manager</td>\n",
       "      <td>AK7488</td>\n",
       "      <td>2017-11-19 00:00:00+00:00</td>\n",
       "      <td>2017-11-20 00:00:00+00:00</td>\n",
       "      <td>6348</td>\n",
       "      <td>NaN</td>\n",
       "      <td>6348</td>\n",
       "      <td>decide on travel expense approval</td>\n",
       "      <td>2017-11-22 12:59:00+00:00</td>\n",
       "      <td>55805</td>\n",
       "      <td>3353</td>\n",
       "    </tr>\n",
       "    <tr>\n",
       "      <th>55806</th>\n",
       "      <td>send original documents to archive</td>\n",
       "      <td>2017-11-29 20:12:00+00:00</td>\n",
       "      <td>2017-11-29 20:24:00+00:00</td>\n",
       "      <td>Employee</td>\n",
       "      <td>KI9211</td>\n",
       "      <td>2017-11-19 00:00:00+00:00</td>\n",
       "      <td>2017-11-20 00:00:00+00:00</td>\n",
       "      <td>6348</td>\n",
       "      <td>NaN</td>\n",
       "      <td>6348</td>\n",
       "      <td>send original documents to archive</td>\n",
       "      <td>2017-11-29 20:12:00+00:00</td>\n",
       "      <td>55806</td>\n",
       "      <td>3353</td>\n",
       "    </tr>\n",
       "    <tr>\n",
       "      <th>55807</th>\n",
       "      <td>calculate payments</td>\n",
       "      <td>2017-12-08 09:32:00+00:00</td>\n",
       "      <td>2017-12-08 09:55:00+00:00</td>\n",
       "      <td>Accounting</td>\n",
       "      <td>FQ3758</td>\n",
       "      <td>2017-11-19 00:00:00+00:00</td>\n",
       "      <td>2017-11-20 00:00:00+00:00</td>\n",
       "      <td>6348</td>\n",
       "      <td>NaN</td>\n",
       "      <td>6348</td>\n",
       "      <td>calculate payments</td>\n",
       "      <td>2017-12-08 09:32:00+00:00</td>\n",
       "      <td>55807</td>\n",
       "      <td>3353</td>\n",
       "    </tr>\n",
       "    <tr>\n",
       "      <th>55808</th>\n",
       "      <td>pay expenses</td>\n",
       "      <td>2017-12-18 08:39:00+00:00</td>\n",
       "      <td>2017-12-18 08:52:00+00:00</td>\n",
       "      <td>Accounting</td>\n",
       "      <td>FQ3758</td>\n",
       "      <td>2017-11-19 00:00:00+00:00</td>\n",
       "      <td>2017-11-20 00:00:00+00:00</td>\n",
       "      <td>6348</td>\n",
       "      <td>NaN</td>\n",
       "      <td>6348</td>\n",
       "      <td>pay expenses</td>\n",
       "      <td>2017-12-18 08:39:00+00:00</td>\n",
       "      <td>55808</td>\n",
       "      <td>3353</td>\n",
       "    </tr>\n",
       "  </tbody>\n",
       "</table>\n",
       "<p>55809 rows × 14 columns</p>\n",
       "</div>"
      ],
      "text/plain": [
       "                                                activity  \\\n",
       "0                                    file travel request   \n",
       "1      check if travel request needs preliminary pric...   \n",
       "2                        decide on approval requirements   \n",
       "3                          check if booking is necessary   \n",
       "4                       check if expense documents exist   \n",
       "...                                                  ...   \n",
       "55804                      confirm travel expense report   \n",
       "55805                  decide on travel expense approval   \n",
       "55806                 send original documents to archive   \n",
       "55807                                 calculate payments   \n",
       "55808                                       pay expenses   \n",
       "\n",
       "                          start                       end               type  \\\n",
       "0     2017-01-17 11:17:00+00:00 2017-01-17 11:23:00+00:00           Employee   \n",
       "1     2017-01-17 11:23:00+00:00 2017-01-17 11:24:00+00:00           Employee   \n",
       "2     2017-01-17 11:24:00+00:00 2017-01-17 11:24:00+00:00           Employee   \n",
       "3     2017-01-17 11:24:00+00:00 2017-01-17 11:40:00+00:00  Travel Department   \n",
       "4     2017-01-18 05:59:00+00:00 2017-01-18 06:31:00+00:00           Employee   \n",
       "...                         ...                       ...                ...   \n",
       "55804 2017-11-22 06:48:00+00:00 2017-11-22 06:50:00+00:00           Employee   \n",
       "55805 2017-11-22 12:59:00+00:00 2017-11-22 13:06:00+00:00            Manager   \n",
       "55806 2017-11-29 20:12:00+00:00 2017-11-29 20:24:00+00:00           Employee   \n",
       "55807 2017-12-08 09:32:00+00:00 2017-12-08 09:55:00+00:00         Accounting   \n",
       "55808 2017-12-18 08:39:00+00:00 2017-12-18 08:52:00+00:00         Accounting   \n",
       "\n",
       "         user              travel_start                travel_end  case  cost  \\\n",
       "0      JB8510 2017-10-01 00:00:00+00:00 2017-01-15 00:00:00+00:00   105   NaN   \n",
       "1      JB8510 2017-10-01 00:00:00+00:00 2017-01-15 00:00:00+00:00   105   NaN   \n",
       "2      JB8510 2017-10-01 00:00:00+00:00 2017-01-15 00:00:00+00:00   105   NaN   \n",
       "3      KS9688 2017-10-01 00:00:00+00:00 2017-01-15 00:00:00+00:00   105   NaN   \n",
       "4      JB8510 2017-10-01 00:00:00+00:00 2017-01-15 00:00:00+00:00   105   NaN   \n",
       "...       ...                       ...                       ...   ...   ...   \n",
       "55804  KI9211 2017-11-19 00:00:00+00:00 2017-11-20 00:00:00+00:00  6348   NaN   \n",
       "55805  AK7488 2017-11-19 00:00:00+00:00 2017-11-20 00:00:00+00:00  6348   NaN   \n",
       "55806  KI9211 2017-11-19 00:00:00+00:00 2017-11-20 00:00:00+00:00  6348   NaN   \n",
       "55807  FQ3758 2017-11-19 00:00:00+00:00 2017-11-20 00:00:00+00:00  6348   NaN   \n",
       "55808  FQ3758 2017-11-19 00:00:00+00:00 2017-11-20 00:00:00+00:00  6348   NaN   \n",
       "\n",
       "      case:concept:name                                       concept:name  \\\n",
       "0                   105                                file travel request   \n",
       "1                   105  check if travel request needs preliminary pric...   \n",
       "2                   105                    decide on approval requirements   \n",
       "3                   105                      check if booking is necessary   \n",
       "4                   105                   check if expense documents exist   \n",
       "...                 ...                                                ...   \n",
       "55804              6348                      confirm travel expense report   \n",
       "55805              6348                  decide on travel expense approval   \n",
       "55806              6348                 send original documents to archive   \n",
       "55807              6348                                 calculate payments   \n",
       "55808              6348                                       pay expenses   \n",
       "\n",
       "                 time:timestamp  @@index  @@case_index  \n",
       "0     2017-01-17 11:17:00+00:00        0             0  \n",
       "1     2017-01-17 11:23:00+00:00        1             0  \n",
       "2     2017-01-17 11:24:00+00:00        2             0  \n",
       "3     2017-01-17 11:24:00+00:00        3             0  \n",
       "4     2017-01-18 05:59:00+00:00        4             0  \n",
       "...                         ...      ...           ...  \n",
       "55804 2017-11-22 06:48:00+00:00    55804          3353  \n",
       "55805 2017-11-22 12:59:00+00:00    55805          3353  \n",
       "55806 2017-11-29 20:12:00+00:00    55806          3353  \n",
       "55807 2017-12-08 09:32:00+00:00    55807          3353  \n",
       "55808 2017-12-18 08:39:00+00:00    55808          3353  \n",
       "\n",
       "[55809 rows x 14 columns]"
      ]
     },
     "execution_count": 1,
     "metadata": {},
     "output_type": "execute_result"
    }
   ],
   "source": [
    "import pandas as pd\n",
    "import numpy as np\n",
    "import pm4py\n",
    "from pm4py.objects.conversion.log import converter as log_converter\n",
    "\n",
    "\n",
    "if __name__ == \"__main__\":\n",
    "    # Read the CSV file\n",
    "    dataframe = pd.read_csv('mobis.csv', sep=',')  \n",
    "\n",
    "    # Drop the first column without knowing its name\n",
    "    dataframe = dataframe.drop(dataframe.columns[0], axis=1)\n",
    "\n",
    "    # Format the dataframe\n",
    "    dataframe = pm4py.format_dataframe(\n",
    "        dataframe, \n",
    "        case_id='case', \n",
    "        activity_key='activity', \n",
    "        timestamp_key='start'\n",
    "    )\n",
    "\n",
    "    # Convert the dataframe to event log\n",
    "    log = log_converter.apply(dataframe)\n",
    "    \n",
    "dataframe"
   ]
  },
  {
   "cell_type": "markdown",
   "id": "c198eb53",
   "metadata": {},
   "source": [
    "# Data Preprocessing"
   ]
  },
  {
   "cell_type": "raw",
   "id": "bec5550d",
   "metadata": {},
   "source": [
    "# AVERAGE\n",
    "\n",
    "import pandas as pd\n",
    "from gensim.models import Word2Vec\n",
    "import numpy as np\n",
    "\n",
    "# Group the dataframe by '@@case_index' and then combine the 'concept:name' of each group into a list\n",
    "grouped = dataframe.groupby('@@case_index')['concept:name'].apply(list).reset_index(name='traces')\n",
    "\n",
    "# Convert all activities to lowercase\n",
    "grouped['traces'] = grouped['traces'].apply(lambda x: [activity.lower() for activity in x])\n",
    "\n",
    "# Now, 'traces' column in 'grouped' dataframe is a list of activities belonging to each case\n",
    "\n",
    "# Train a Word2Vec model\n",
    "model = Word2Vec(sentences=grouped['traces'], vector_size=100, window=5, min_count=1, workers=4)\n",
    "\n",
    "# This function takes a trace (list of activities) and transforms it into a single vector\n",
    "def trace_to_vector(trace, model):\n",
    "    # Get the vector for each activity in the trace\n",
    "    vectors = [model.wv[activity] for activity in trace]\n",
    "    # Calculate mean of vectors\n",
    "    trace_vector = np.mean(vectors, axis=0)\n",
    "    return trace_vector\n",
    "\n",
    "# Map each trace to its vector representation\n",
    "trace_vectors = grouped['traces'].apply(lambda x: trace_to_vector(x, model))\n",
    "\n",
    "# Now trace_vectors contain vector representation for each trace\n",
    "print(trace_vectors)"
   ]
  },
  {
   "cell_type": "code",
   "execution_count": 2,
   "id": "d3c5a89f",
   "metadata": {},
   "outputs": [],
   "source": [
    "import pandas as pd\n",
    "from gensim.models import Word2Vec\n",
    "import numpy as np\n",
    "\n",
    "q = 10\n",
    "\n",
    "# Group the dataframe by case and combine the activities into a list\n",
    "grouped = dataframe.groupby('@@case_index')['concept:name'].apply(list).reset_index(name='traces')\n",
    "\n",
    "# Convert all activities to lowercase for consistency\n",
    "grouped['traces'] = grouped['traces'].apply(lambda x: [activity.lower() for activity in x])\n",
    "\n",
    "# Train a Word2Vec model\n",
    "model = Word2Vec(sentences=grouped['traces'], vector_size=q, window=5, min_count=1, workers=4)\n",
    "\n",
    "# Function to concatenate and pad vectors of each activity in a trace\n",
    "def trace_to_padded_vector(trace, model, max_length, vector_size=q):\n",
    "    # Get the vector for each activity in the trace\n",
    "    vectors = [model.wv[activity] for activity in trace if activity in model.wv]\n",
    "    \n",
    "    # Concatenate all vectors\n",
    "    concatenated_vector = np.concatenate(vectors) if vectors else np.zeros(0)\n",
    "\n",
    "    # Determine the length of padding required\n",
    "    padding_length = max_length - concatenated_vector.shape[0]\n",
    "\n",
    "    # Check if padding is needed\n",
    "    if padding_length > 0:\n",
    "        # Pad with zeros\n",
    "        concatenated_vector = np.pad(concatenated_vector, (0, padding_length), mode='constant')\n",
    "    elif padding_length < 0:\n",
    "        # Truncate the vector if it's longer than max_length\n",
    "        concatenated_vector = concatenated_vector[:max_length]\n",
    "\n",
    "    return concatenated_vector\n",
    "\n",
    "# Determine the maximum length for padding (you might need to adjust this)\n",
    "# Example: max_length = longest trace * vector_size\n",
    "max_length = max(grouped['traces'].apply(len)) * q\n",
    "\n",
    "# Map each trace to its concatenated and padded vector representation\n",
    "padded_trace_vectors = grouped['traces'].apply(lambda x: trace_to_padded_vector(x, model, max_length))\n",
    "\n",
    "trace_vectors = padded_trace_vectors"
   ]
  },
  {
   "cell_type": "markdown",
   "id": "7a4245f4",
   "metadata": {},
   "source": [
    "# Clustering"
   ]
  },
  {
   "cell_type": "code",
   "execution_count": 3,
   "id": "33175a60",
   "metadata": {},
   "outputs": [
    {
     "name": "stderr",
     "output_type": "stream",
     "text": [
      "/Users/mert2/.conda/envs/thesis/lib/python3.11/site-packages/sklearn/cluster/_kmeans.py:1416: FutureWarning: The default value of `n_init` will change from 10 to 'auto' in 1.4. Set the value of `n_init` explicitly to suppress the warning\n",
      "  super()._check_params_vs_input(X, default_n_init=10)\n",
      "/Users/mert2/.conda/envs/thesis/lib/python3.11/site-packages/sklearn/cluster/_kmeans.py:1416: FutureWarning: The default value of `n_init` will change from 10 to 'auto' in 1.4. Set the value of `n_init` explicitly to suppress the warning\n",
      "  super()._check_params_vs_input(X, default_n_init=10)\n",
      "/Users/mert2/.conda/envs/thesis/lib/python3.11/site-packages/sklearn/cluster/_kmeans.py:1416: FutureWarning: The default value of `n_init` will change from 10 to 'auto' in 1.4. Set the value of `n_init` explicitly to suppress the warning\n",
      "  super()._check_params_vs_input(X, default_n_init=10)\n",
      "/Users/mert2/.conda/envs/thesis/lib/python3.11/site-packages/sklearn/cluster/_kmeans.py:1416: FutureWarning: The default value of `n_init` will change from 10 to 'auto' in 1.4. Set the value of `n_init` explicitly to suppress the warning\n",
      "  super()._check_params_vs_input(X, default_n_init=10)\n",
      "/Users/mert2/.conda/envs/thesis/lib/python3.11/site-packages/sklearn/cluster/_kmeans.py:1416: FutureWarning: The default value of `n_init` will change from 10 to 'auto' in 1.4. Set the value of `n_init` explicitly to suppress the warning\n",
      "  super()._check_params_vs_input(X, default_n_init=10)\n",
      "/Users/mert2/.conda/envs/thesis/lib/python3.11/site-packages/sklearn/cluster/_kmeans.py:1416: FutureWarning: The default value of `n_init` will change from 10 to 'auto' in 1.4. Set the value of `n_init` explicitly to suppress the warning\n",
      "  super()._check_params_vs_input(X, default_n_init=10)\n",
      "/Users/mert2/.conda/envs/thesis/lib/python3.11/site-packages/sklearn/cluster/_kmeans.py:1416: FutureWarning: The default value of `n_init` will change from 10 to 'auto' in 1.4. Set the value of `n_init` explicitly to suppress the warning\n",
      "  super()._check_params_vs_input(X, default_n_init=10)\n",
      "/Users/mert2/.conda/envs/thesis/lib/python3.11/site-packages/sklearn/cluster/_kmeans.py:1416: FutureWarning: The default value of `n_init` will change from 10 to 'auto' in 1.4. Set the value of `n_init` explicitly to suppress the warning\n",
      "  super()._check_params_vs_input(X, default_n_init=10)\n",
      "/Users/mert2/.conda/envs/thesis/lib/python3.11/site-packages/sklearn/cluster/_kmeans.py:1416: FutureWarning: The default value of `n_init` will change from 10 to 'auto' in 1.4. Set the value of `n_init` explicitly to suppress the warning\n",
      "  super()._check_params_vs_input(X, default_n_init=10)\n",
      "/Users/mert2/.conda/envs/thesis/lib/python3.11/site-packages/sklearn/cluster/_kmeans.py:1416: FutureWarning: The default value of `n_init` will change from 10 to 'auto' in 1.4. Set the value of `n_init` explicitly to suppress the warning\n",
      "  super()._check_params_vs_input(X, default_n_init=10)\n",
      "/Users/mert2/.conda/envs/thesis/lib/python3.11/site-packages/sklearn/cluster/_kmeans.py:1416: FutureWarning: The default value of `n_init` will change from 10 to 'auto' in 1.4. Set the value of `n_init` explicitly to suppress the warning\n",
      "  super()._check_params_vs_input(X, default_n_init=10)\n",
      "/Users/mert2/.conda/envs/thesis/lib/python3.11/site-packages/sklearn/cluster/_kmeans.py:1416: FutureWarning: The default value of `n_init` will change from 10 to 'auto' in 1.4. Set the value of `n_init` explicitly to suppress the warning\n",
      "  super()._check_params_vs_input(X, default_n_init=10)\n",
      "/Users/mert2/.conda/envs/thesis/lib/python3.11/site-packages/sklearn/cluster/_kmeans.py:1416: FutureWarning: The default value of `n_init` will change from 10 to 'auto' in 1.4. Set the value of `n_init` explicitly to suppress the warning\n",
      "  super()._check_params_vs_input(X, default_n_init=10)\n",
      "/Users/mert2/.conda/envs/thesis/lib/python3.11/site-packages/sklearn/cluster/_kmeans.py:1416: FutureWarning: The default value of `n_init` will change from 10 to 'auto' in 1.4. Set the value of `n_init` explicitly to suppress the warning\n",
      "  super()._check_params_vs_input(X, default_n_init=10)\n"
     ]
    },
    {
     "data": {
      "image/png": "[encoded data removed]",
      "text/plain": [
       "<Figure size 1600x800 with 1 Axes>"
      ]
     },
     "metadata": {},
     "output_type": "display_data"
    },
    {
     "name": "stdout",
     "output_type": "stream",
     "text": [
      "Optimal number of clusters: 4\n"
     ]
    }
   ],
   "source": [
    "from sklearn.cluster import KMeans\n",
    "import matplotlib.pyplot as plt\n",
    "from kneed import KneeLocator\n",
    "import numpy as np\n",
    "\n",
    "# Convert trace_vectors into a 2D array, which can be directly fed to KMeans\n",
    "trace_vectors = np.array(trace_vectors.tolist())\n",
    "\n",
    "distortions = []\n",
    "K = range(1, 15)  # Check for number of clusters from 1 to 15, adjust according to your data\n",
    "for k in K:\n",
    "    kmeans = KMeans(n_clusters=k, random_state=42)\n",
    "    kmeans.fit(trace_vectors)\n",
    "    distortions.append(kmeans.inertia_)  # Inertia: sum of squared distances of samples to their closest cluster center\n",
    "\n",
    "# Plot the elbow\n",
    "plt.figure(figsize=(16,8))\n",
    "plt.plot(K, distortions, 'bx-')\n",
    "plt.xlabel('k')\n",
    "plt.ylabel('Distortion')\n",
    "plt.title('The Elbow Method showing the optimal k')\n",
    "plt.show()\n",
    "\n",
    "# Find the elbow point using KneeLocator\n",
    "kl = KneeLocator(K, distortions, curve='convex', direction='decreasing')\n",
    "print(\"Optimal number of clusters:\", kl.elbow)"
   ]
  },
  {
   "cell_type": "code",
   "execution_count": 4,
   "id": "737848c1",
   "metadata": {},
   "outputs": [
    {
     "name": "stderr",
     "output_type": "stream",
     "text": [
      "/Users/mert2/.conda/envs/thesis/lib/python3.11/site-packages/sklearn/cluster/_kmeans.py:1416: FutureWarning: The default value of `n_init` will change from 10 to 'auto' in 1.4. Set the value of `n_init` explicitly to suppress the warning\n",
      "  super()._check_params_vs_input(X, default_n_init=10)\n"
     ]
    }
   ],
   "source": [
    "from sklearn.cluster import KMeans\n",
    "\n",
    "# Number of clusters\n",
    "k = kl.elbow\n",
    "\n",
    "# Create a KMeans instance with k clusters\n",
    "kmeans = KMeans(n_clusters=k, random_state=42)\n",
    "\n",
    "# Fit the model to the data\n",
    "kmeans.fit(trace_vectors)\n",
    "\n",
    "# Predict the clusters for each trace\n",
    "clusters = kmeans.predict(trace_vectors)"
   ]
  },
  {
   "cell_type": "markdown",
   "id": "c20f4834",
   "metadata": {},
   "source": [
    "# Cluster Evaluation"
   ]
  },
  {
   "cell_type": "code",
   "execution_count": 5,
   "id": "1ea21f58",
   "metadata": {},
   "outputs": [
    {
     "name": "stdout",
     "output_type": "stream",
     "text": [
      "Silhouette Coefficient: 0.40\n"
     ]
    }
   ],
   "source": [
    "# the value of the silhouette coefficient ranges between -1 and 1\n",
    "# value close to 1 is considered as good\n",
    "\n",
    "from sklearn.metrics import silhouette_score\n",
    "\n",
    "# Calculate silhouette score\n",
    "silhouette_avg = silhouette_score(trace_vectors, clusters)\n",
    "\n",
    "print(f\"Silhouette Coefficient: {silhouette_avg:.2f}\")"
   ]
  },
  {
   "cell_type": "markdown",
   "id": "c0556d66",
   "metadata": {},
   "source": [
    "# Token-Based Replay for Conformance Checking"
   ]
  },
  {
   "cell_type": "code",
   "execution_count": 6,
   "id": "056854ee",
   "metadata": {},
   "outputs": [
    {
     "data": {
      "application/vnd.jupyter.widget-view+json": {
       "model_id": "3dc9b63f54034bdc9f498433bca48630",
       "version_major": 2,
       "version_minor": 0
      },
      "text/plain": [
       "aligning log, completed variants ::   0%|          | 0/295 [00:00<?, ?it/s]"
      ]
     },
     "metadata": {},
     "output_type": "display_data"
    },
    {
     "name": "stdout",
     "output_type": "stream",
     "text": [
      "Total traces: 3354\n",
      "Conform traces: 1690\n",
      "Non-Conform traces: 1664\n"
     ]
    }
   ],
   "source": [
    "import pm4py\n",
    "from pm4py.objects.log.importer.xes import importer as xes_importer\n",
    "from pm4py.objects.bpmn.importer import importer as bpmn_importer\n",
    "from pm4py.algo.conformance.alignments.petri_net import algorithm as alignments_petri\n",
    "\n",
    "# 2. Import the given BPMN model\n",
    "bpmn_graph = bpmn_importer.apply(\"MobisToBe.bpmn\")\n",
    "\n",
    "# 3. Convert the BPMN to a Petri net\n",
    "net, im, fm = pm4py.convert_to_petri_net(bpmn_graph)\n",
    "\n",
    "# 4. Perform alignment-based conformance checking\n",
    "alignments = alignments_petri.apply(log, net, im, fm)\n",
    "\n",
    "# Calculate and print diagnostics\n",
    "fit_traces = sum(1 for trace in alignments if trace['fitness'] == 1.0)\n",
    "\n",
    "print(f\"Total traces: {len(log)}\")\n",
    "print(f\"Conform traces: {fit_traces}\")\n",
    "print(f\"Non-Conform traces: {len(log) - fit_traces}\")"
   ]
  },
  {
   "cell_type": "markdown",
   "id": "255155be",
   "metadata": {},
   "source": [
    "# Input Traces"
   ]
  },
  {
   "cell_type": "code",
   "execution_count": 7,
   "id": "202dc053",
   "metadata": {},
   "outputs": [],
   "source": [
    "trace1 = ['file travel request', 'check if travel request needs preliminary price inquiry', 'decide on approval requirements', 'check if booking is necessary', 'check if expense documents exist', 'upload travel expense documents', 'file travel expense report', 'confirm travel expense report', 'decide on travel expense approval', 'send original documents to archive', 'calculate payments', 'pay expenses']\n",
    "trace2 = ['file travel request', 'check if travel request needs preliminary price inquiry', 'decide on approval requirements', 'check if booking is necessary', 'check if expense documents exist', 'file travel expense report', 'confirm travel expense report', 'decide on travel expense approval', 'send original documents to archive', 'calculate payments', 'pay expenses']\n",
    "trace3 = ['file travel request', 'check if travel request needs preliminary price inquiry', 'decide on approval requirements', 'forward request to approver', 'decide on request', 'check if booking is necessary', 'check if expense documents exist', 'upload travel expense documents', 'file travel expense report', 'confirm travel expense report', 'decide on travel expense approval', 'send original documents to archive', 'calculate payments', 'pay expenses']"
   ]
  },
  {
   "cell_type": "code",
   "execution_count": 8,
   "id": "c8156b73",
   "metadata": {},
   "outputs": [],
   "source": [
    "grouped = dataframe.groupby('@@case_index')['concept:name'].apply(list).reset_index(name='trace')"
   ]
  },
  {
   "cell_type": "code",
   "execution_count": 9,
   "id": "c5c997b2",
   "metadata": {},
   "outputs": [],
   "source": [
    "def is_happy_trace(row_trace):\n",
    "    predefined_traces = [trace1, trace2, trace3]\n",
    "    for trace in predefined_traces:\n",
    "        if row_trace == trace:\n",
    "            return 1\n",
    "    return 0"
   ]
  },
  {
   "cell_type": "code",
   "execution_count": 10,
   "id": "c8d24636",
   "metadata": {},
   "outputs": [
    {
     "data": {
      "text/html": [
       "<div>\n",
       "<style scoped>\n",
       "    .dataframe tbody tr th:only-of-type {\n",
       "        vertical-align: middle;\n",
       "    }\n",
       "\n",
       "    .dataframe tbody tr th {\n",
       "        vertical-align: top;\n",
       "    }\n",
       "\n",
       "    .dataframe thead th {\n",
       "        text-align: right;\n",
       "    }\n",
       "</style>\n",
       "<table border=\"1\" class=\"dataframe\">\n",
       "  <thead>\n",
       "    <tr style=\"text-align: right;\">\n",
       "      <th></th>\n",
       "      <th>@@case_index</th>\n",
       "      <th>trace</th>\n",
       "      <th>happy</th>\n",
       "    </tr>\n",
       "  </thead>\n",
       "  <tbody>\n",
       "    <tr>\n",
       "      <th>0</th>\n",
       "      <td>0</td>\n",
       "      <td>[file travel request, check if travel request ...</td>\n",
       "      <td>1</td>\n",
       "    </tr>\n",
       "    <tr>\n",
       "      <th>1</th>\n",
       "      <td>1</td>\n",
       "      <td>[file travel request, check if travel request ...</td>\n",
       "      <td>0</td>\n",
       "    </tr>\n",
       "    <tr>\n",
       "      <th>2</th>\n",
       "      <td>2</td>\n",
       "      <td>[file travel request, check if travel request ...</td>\n",
       "      <td>0</td>\n",
       "    </tr>\n",
       "    <tr>\n",
       "      <th>3</th>\n",
       "      <td>3</td>\n",
       "      <td>[file travel request, check if travel request ...</td>\n",
       "      <td>0</td>\n",
       "    </tr>\n",
       "    <tr>\n",
       "      <th>4</th>\n",
       "      <td>4</td>\n",
       "      <td>[file travel request, check if travel request ...</td>\n",
       "      <td>0</td>\n",
       "    </tr>\n",
       "    <tr>\n",
       "      <th>...</th>\n",
       "      <td>...</td>\n",
       "      <td>...</td>\n",
       "      <td>...</td>\n",
       "    </tr>\n",
       "    <tr>\n",
       "      <th>3349</th>\n",
       "      <td>3349</td>\n",
       "      <td>[file travel request, check if travel request ...</td>\n",
       "      <td>1</td>\n",
       "    </tr>\n",
       "    <tr>\n",
       "      <th>3350</th>\n",
       "      <td>3350</td>\n",
       "      <td>[file travel request, check if travel request ...</td>\n",
       "      <td>0</td>\n",
       "    </tr>\n",
       "    <tr>\n",
       "      <th>3351</th>\n",
       "      <td>3351</td>\n",
       "      <td>[file travel request, check if travel request ...</td>\n",
       "      <td>1</td>\n",
       "    </tr>\n",
       "    <tr>\n",
       "      <th>3352</th>\n",
       "      <td>3352</td>\n",
       "      <td>[file travel request, check if travel request ...</td>\n",
       "      <td>1</td>\n",
       "    </tr>\n",
       "    <tr>\n",
       "      <th>3353</th>\n",
       "      <td>3353</td>\n",
       "      <td>[file travel request, check if travel request ...</td>\n",
       "      <td>1</td>\n",
       "    </tr>\n",
       "  </tbody>\n",
       "</table>\n",
       "<p>3354 rows × 3 columns</p>\n",
       "</div>"
      ],
      "text/plain": [
       "      @@case_index                                              trace  happy\n",
       "0                0  [file travel request, check if travel request ...      1\n",
       "1                1  [file travel request, check if travel request ...      0\n",
       "2                2  [file travel request, check if travel request ...      0\n",
       "3                3  [file travel request, check if travel request ...      0\n",
       "4                4  [file travel request, check if travel request ...      0\n",
       "...            ...                                                ...    ...\n",
       "3349          3349  [file travel request, check if travel request ...      1\n",
       "3350          3350  [file travel request, check if travel request ...      0\n",
       "3351          3351  [file travel request, check if travel request ...      1\n",
       "3352          3352  [file travel request, check if travel request ...      1\n",
       "3353          3353  [file travel request, check if travel request ...      1\n",
       "\n",
       "[3354 rows x 3 columns]"
      ]
     },
     "execution_count": 10,
     "metadata": {},
     "output_type": "execute_result"
    }
   ],
   "source": [
    "grouped['happy'] = grouped['trace'].apply(is_happy_trace)\n",
    "grouped"
   ]
  },
  {
   "cell_type": "code",
   "execution_count": 11,
   "id": "947c3a5d",
   "metadata": {},
   "outputs": [],
   "source": [
    "# Get indices of the happy traces in the results dataframe\n",
    "happy_trace_indices = grouped[grouped['happy'] == 1].index.tolist()\n",
    "\n",
    "# Extract the corresponding coordinates from the trace_representations array\n",
    "happy_trace_coordinates = trace_vectors[happy_trace_indices]\n",
    "\n",
    "# Extract unique coordinates\n",
    "unique_happy_trace_coordinates = np.unique(happy_trace_coordinates, axis=0)\n",
    "\n",
    "# Assuming the size of unique_happy_trace_coordinates is 3\n",
    "#happy_trace1, happy_trace2, happy_trace3 = unique_happy_trace_coordinates\n",
    "happy_trace1, happy_trace2, happy_trace3 = unique_happy_trace_coordinates"
   ]
  },
  {
   "cell_type": "markdown",
   "id": "b108b9a5",
   "metadata": {},
   "source": [
    "# Distance Measurement"
   ]
  },
  {
   "cell_type": "code",
   "execution_count": 12,
   "id": "f1997c98",
   "metadata": {},
   "outputs": [],
   "source": [
    "from scipy.spatial.distance import euclidean\n",
    "\n",
    "# Calculate the distances to each of the happy traces for every trace representation\n",
    "distances_to_happy_traces = []\n",
    "\n",
    "for trace_representation in trace_vectors:\n",
    "    distances = [\n",
    "        euclidean(trace_representation, happy_trace1),\n",
    "        euclidean(trace_representation, happy_trace2),\n",
    "        euclidean(trace_representation, happy_trace3)\n",
    "    ]\n",
    "    distances_to_happy_traces.append(distances)\n",
    "\n",
    "# Calculate the average distance to the happy traces for each trace representation\n",
    "avg_distances = [np.mean(distances) for distances in distances_to_happy_traces]\n",
    "\n",
    "# Save the distances in a variable\n",
    "avg_distances_var = np.array(avg_distances)"
   ]
  },
  {
   "cell_type": "markdown",
   "id": "ac090cc2",
   "metadata": {},
   "source": [
    "# Results overview"
   ]
  },
  {
   "cell_type": "code",
   "execution_count": 13,
   "id": "9f020556",
   "metadata": {},
   "outputs": [
    {
     "data": {
      "text/html": [
       "<div>\n",
       "<style scoped>\n",
       "    .dataframe tbody tr th:only-of-type {\n",
       "        vertical-align: middle;\n",
       "    }\n",
       "\n",
       "    .dataframe tbody tr th {\n",
       "        vertical-align: top;\n",
       "    }\n",
       "\n",
       "    .dataframe thead th {\n",
       "        text-align: right;\n",
       "    }\n",
       "</style>\n",
       "<table border=\"1\" class=\"dataframe\">\n",
       "  <thead>\n",
       "    <tr style=\"text-align: right;\">\n",
       "      <th></th>\n",
       "      <th>trace</th>\n",
       "      <th>cluster</th>\n",
       "      <th>conform</th>\n",
       "      <th>distance</th>\n",
       "    </tr>\n",
       "  </thead>\n",
       "  <tbody>\n",
       "    <tr>\n",
       "      <th>0</th>\n",
       "      <td>[file travel request, check if travel request ...</td>\n",
       "      <td>0</td>\n",
       "      <td>1</td>\n",
       "      <td>2.735641</td>\n",
       "    </tr>\n",
       "    <tr>\n",
       "      <th>1</th>\n",
       "      <td>[file travel request, check if travel request ...</td>\n",
       "      <td>3</td>\n",
       "      <td>0</td>\n",
       "      <td>11.588380</td>\n",
       "    </tr>\n",
       "    <tr>\n",
       "      <th>2</th>\n",
       "      <td>[file travel request, check if travel request ...</td>\n",
       "      <td>1</td>\n",
       "      <td>1</td>\n",
       "      <td>6.623641</td>\n",
       "    </tr>\n",
       "    <tr>\n",
       "      <th>3</th>\n",
       "      <td>[file travel request, check if travel request ...</td>\n",
       "      <td>3</td>\n",
       "      <td>0</td>\n",
       "      <td>12.365939</td>\n",
       "    </tr>\n",
       "    <tr>\n",
       "      <th>4</th>\n",
       "      <td>[file travel request, check if travel request ...</td>\n",
       "      <td>1</td>\n",
       "      <td>0</td>\n",
       "      <td>8.913659</td>\n",
       "    </tr>\n",
       "    <tr>\n",
       "      <th>...</th>\n",
       "      <td>...</td>\n",
       "      <td>...</td>\n",
       "      <td>...</td>\n",
       "      <td>...</td>\n",
       "    </tr>\n",
       "    <tr>\n",
       "      <th>3349</th>\n",
       "      <td>[file travel request, check if travel request ...</td>\n",
       "      <td>0</td>\n",
       "      <td>1</td>\n",
       "      <td>2.754735</td>\n",
       "    </tr>\n",
       "    <tr>\n",
       "      <th>3350</th>\n",
       "      <td>[file travel request, check if travel request ...</td>\n",
       "      <td>0</td>\n",
       "      <td>0</td>\n",
       "      <td>4.729109</td>\n",
       "    </tr>\n",
       "    <tr>\n",
       "      <th>3351</th>\n",
       "      <td>[file travel request, check if travel request ...</td>\n",
       "      <td>0</td>\n",
       "      <td>1</td>\n",
       "      <td>3.272089</td>\n",
       "    </tr>\n",
       "    <tr>\n",
       "      <th>3352</th>\n",
       "      <td>[file travel request, check if travel request ...</td>\n",
       "      <td>0</td>\n",
       "      <td>1</td>\n",
       "      <td>3.272089</td>\n",
       "    </tr>\n",
       "    <tr>\n",
       "      <th>3353</th>\n",
       "      <td>[file travel request, check if travel request ...</td>\n",
       "      <td>0</td>\n",
       "      <td>1</td>\n",
       "      <td>2.754735</td>\n",
       "    </tr>\n",
       "  </tbody>\n",
       "</table>\n",
       "<p>3354 rows × 4 columns</p>\n",
       "</div>"
      ],
      "text/plain": [
       "                                                  trace  cluster  conform  \\\n",
       "0     [file travel request, check if travel request ...        0        1   \n",
       "1     [file travel request, check if travel request ...        3        0   \n",
       "2     [file travel request, check if travel request ...        1        1   \n",
       "3     [file travel request, check if travel request ...        3        0   \n",
       "4     [file travel request, check if travel request ...        1        0   \n",
       "...                                                 ...      ...      ...   \n",
       "3349  [file travel request, check if travel request ...        0        1   \n",
       "3350  [file travel request, check if travel request ...        0        0   \n",
       "3351  [file travel request, check if travel request ...        0        1   \n",
       "3352  [file travel request, check if travel request ...        0        1   \n",
       "3353  [file travel request, check if travel request ...        0        1   \n",
       "\n",
       "       distance  \n",
       "0      2.735641  \n",
       "1     11.588380  \n",
       "2      6.623641  \n",
       "3     12.365939  \n",
       "4      8.913659  \n",
       "...         ...  \n",
       "3349   2.754735  \n",
       "3350   4.729109  \n",
       "3351   3.272089  \n",
       "3352   3.272089  \n",
       "3353   2.754735  \n",
       "\n",
       "[3354 rows x 4 columns]"
      ]
     },
     "execution_count": 13,
     "metadata": {},
     "output_type": "execute_result"
    }
   ],
   "source": [
    "# create dataframe with necessary information for distance measurement\n",
    "\n",
    "#grouped = dataframe.groupby('@@case_index')['concept:name'].apply(list).reset_index(name='trace')\n",
    "\n",
    "results = pd.DataFrame(grouped['trace'])\n",
    "\n",
    "results['cluster'] = clusters\n",
    "\n",
    "conformity_array = [int(trace['fitness']) for trace in alignments]\n",
    "results['conform'] = conformity_array\n",
    "\n",
    "results['distance'] = avg_distances_var\n",
    "\n",
    "results"
   ]
  },
  {
   "cell_type": "code",
   "execution_count": 14,
   "id": "8bad1703",
   "metadata": {},
   "outputs": [
    {
     "name": "stdout",
     "output_type": "stream",
     "text": [
      "cluster\tcount\tconform_count\n",
      "0\t1538\t1037\n",
      "1\t1208\t653\n",
      "2\t213\t0\n",
      "3\t395\t0\n"
     ]
    }
   ],
   "source": [
    "summary = results.groupby('cluster').agg(\n",
    "    count=pd.NamedAgg(column='trace', aggfunc='size'),\n",
    "    conform_count=pd.NamedAgg(column='conform', aggfunc='sum')\n",
    ").reset_index()\n",
    "\n",
    "print(\"cluster\\tcount\\tconform_count\")\n",
    "for _, row in summary.iterrows():\n",
    "    print(f\"{row['cluster']}\\t{row['count']}\\t{row['conform_count']}\")"
   ]
  },
  {
   "cell_type": "markdown",
   "id": "29a1ab2e",
   "metadata": {},
   "source": [
    "# Evaluation"
   ]
  },
  {
   "cell_type": "code",
   "execution_count": 15,
   "id": "f892a82a",
   "metadata": {},
   "outputs": [
    {
     "name": "stderr",
     "output_type": "stream",
     "text": [
      "/Users/mert2/.conda/envs/thesis/lib/python3.11/site-packages/sklearn/cluster/_kmeans.py:1416: FutureWarning: The default value of `n_init` will change from 10 to 'auto' in 1.4. Set the value of `n_init` explicitly to suppress the warning\n",
      "  super()._check_params_vs_input(X, default_n_init=10)\n"
     ]
    },
    {
     "data": {
      "image/png": "[encoded data removed]",
      "text/plain": [
       "<Figure size 640x480 with 1 Axes>"
      ]
     },
     "metadata": {},
     "output_type": "display_data"
    }
   ],
   "source": [
    "from sklearn.cluster import KMeans\n",
    "\n",
    "# Filter the DataFrame into conforming and non-conforming subsets\n",
    "conforming_distances = results[results['conform'] == 1]['distance']\n",
    "non_conforming_distances = results[results['conform'] == 0]['distance']\n",
    "\n",
    "# Determine common bin edges\n",
    "min_distance = min(results['distance'])\n",
    "max_distance = max(results['distance'])\n",
    "bin_edges = np.linspace(min_distance, max_distance, num=30)\n",
    "\n",
    "# Combine the data and reshape for k-means\n",
    "all_distances = results['distance']\n",
    "all_distances = np.array(all_distances)\n",
    "all_distances_reshaped = all_distances.reshape(-1, 1)\n",
    "\n",
    "# Apply k-means clustering\n",
    "kmeans = KMeans(n_clusters=2, random_state=0).fit(all_distances_reshaped)\n",
    "kmeans_labels = kmeans.labels_\n",
    "\n",
    "# Find the threshold as the average of the two cluster centers\n",
    "threshold_value = np.mean(kmeans.cluster_centers_)\n",
    "\n",
    "# Plot histograms and the threshold\n",
    "plt.hist(conforming_distances, bins=bin_edges, alpha=0.5, label='Conforming', color='green')\n",
    "plt.hist(non_conforming_distances, bins=bin_edges, alpha=0.5, label='Non-Conforming', color='red')\n",
    "plt.axvline(threshold_value, color='blue', linestyle='dashed', linewidth=1, label='Threshold')\n",
    "plt.xlabel('Distance')\n",
    "plt.ylabel('Frequency')\n",
    "plt.legend(loc='upper right')\n",
    "plt.title(f'Threshold at {threshold_value:.2f}')\n",
    "plt.show()"
   ]
  },
  {
   "cell_type": "code",
   "execution_count": 16,
   "id": "af2df5bf",
   "metadata": {},
   "outputs": [],
   "source": [
    "true_positive = np.sum(results[results['conform'] == 1]['distance'] < threshold_value)\n",
    "true_negative = np.sum(results[results['conform'] == 0]['distance'] > threshold_value)\n",
    "false_positive = np.sum(results[results['conform'] == 0]['distance'] < threshold_value)\n",
    "false_negative = np.sum(results[results['conform'] == 1]['distance'] > threshold_value)"
   ]
  },
  {
   "cell_type": "code",
   "execution_count": 17,
   "id": "10e986a9",
   "metadata": {},
   "outputs": [
    {
     "name": "stdout",
     "output_type": "stream",
     "text": [
      "Accuracy: 0.810\n"
     ]
    }
   ],
   "source": [
    "# Calculate accuracy\n",
    "accuracy = (true_positive + true_negative) / (true_positive + true_negative + false_positive + false_negative)\n",
    "print(f\"Accuracy: {accuracy:.3f}\")"
   ]
  },
  {
   "cell_type": "code",
   "execution_count": 18,
   "id": "d0859e97",
   "metadata": {},
   "outputs": [
    {
     "name": "stdout",
     "output_type": "stream",
     "text": [
      "Precision: 0.726\n"
     ]
    }
   ],
   "source": [
    "# Calculate precision\n",
    "precision = true_positive / (true_positive + false_positive)\n",
    "print(f\"Precision: {precision:.3f}\")"
   ]
  },
  {
   "cell_type": "code",
   "execution_count": 19,
   "id": "034d3077",
   "metadata": {},
   "outputs": [
    {
     "name": "stdout",
     "output_type": "stream",
     "text": [
      "Recall: 1.000\n"
     ]
    }
   ],
   "source": [
    "# Calculate recall\n",
    "recall = true_positive / (true_positive + false_negative)\n",
    "print(f\"Recall: {recall:.3f}\")"
   ]
  },
  {
   "cell_type": "code",
   "execution_count": 20,
   "id": "e7c00e4e",
   "metadata": {},
   "outputs": [
    {
     "name": "stdout",
     "output_type": "stream",
     "text": [
      "F1: 0.841\n"
     ]
    }
   ],
   "source": [
    "# Calculate f1\n",
    "f1 = 2 * ((precision * recall) / (precision + recall))\n",
    "print(f\"F1: {f1:.3f}\")"
   ]
  },
  {
   "cell_type": "markdown",
   "id": "df9583ac",
   "metadata": {},
   "source": [
    "# Dev (Non Conform Traces)"
   ]
  },
  {
   "cell_type": "code",
   "execution_count": 21,
   "id": "63143770",
   "metadata": {},
   "outputs": [
    {
     "name": "stdout",
     "output_type": "stream",
     "text": [
      "Precision: 1.000\n"
     ]
    }
   ],
   "source": [
    "# Calculate precision for Dev\n",
    "precision = true_negative / (true_negative + false_negative)\n",
    "print(f\"Precision: {precision:.3f}\")"
   ]
  },
  {
   "cell_type": "code",
   "execution_count": 22,
   "id": "1243a813",
   "metadata": {},
   "outputs": [
    {
     "name": "stdout",
     "output_type": "stream",
     "text": [
      "Recall: 0.617\n"
     ]
    }
   ],
   "source": [
    "# Calculate recall for Dev\n",
    "recall = true_negative / (true_negative + false_positive)\n",
    "print(f\"Recall: {recall:.3f}\")"
   ]
  },
  {
   "cell_type": "markdown",
   "id": "6aa508a6",
   "metadata": {},
   "source": [
    "# No Dev (Conform Traces)"
   ]
  },
  {
   "cell_type": "code",
   "execution_count": 23,
   "id": "120db84c",
   "metadata": {},
   "outputs": [
    {
     "name": "stdout",
     "output_type": "stream",
     "text": [
      "Precision: 0.726\n"
     ]
    }
   ],
   "source": [
    "# Calculate precision for No Dev\n",
    "precision = true_positive / (true_positive + false_positive)\n",
    "print(f\"Precision: {precision:.3f}\")"
   ]
  },
  {
   "cell_type": "code",
   "execution_count": 24,
   "id": "1b19eeba",
   "metadata": {},
   "outputs": [
    {
     "name": "stdout",
     "output_type": "stream",
     "text": [
      "Recall: 1.000\n"
     ]
    }
   ],
   "source": [
    "# Calculate recall for No Dev\n",
    "recall = true_positive / (true_positive + false_negative)\n",
    "print(f\"Recall: {recall:.3f}\")"
   ]
  },
  {
   "cell_type": "markdown",
   "id": "0d98e313",
   "metadata": {},
   "source": [
    "# AUC_ROC"
   ]
  },
  {
   "cell_type": "code",
   "execution_count": 25,
   "id": "e00019ab",
   "metadata": {},
   "outputs": [
    {
     "data": {
      "image/png": "[encoded data removed]",
      "text/plain": [
       "<Figure size 640x480 with 1 Axes>"
      ]
     },
     "metadata": {},
     "output_type": "display_data"
    },
    {
     "name": "stdout",
     "output_type": "stream",
     "text": [
      "ROC AUC: 0.885\n"
     ]
    }
   ],
   "source": [
    "# UPDATED\n",
    "\n",
    "import numpy as np\n",
    "from sklearn.metrics import roc_curve, roc_auc_score\n",
    "import matplotlib.pyplot as plt\n",
    "\n",
    "# Assuming 'results' is your DataFrame and 'distance' is the score to predict conformity\n",
    "\n",
    "# Inverting the 'distance' scores because higher scores indicate non-conformity\n",
    "# We invert the scores for ROC AUC calculation because roc_auc_score expects higher values\n",
    "# to indicate higher likelihood of the positive class\n",
    "inverted_scores = 1 - results['distance']\n",
    "\n",
    "# Calculate the ROC curve and AUC using inverted scores\n",
    "fpr, tpr, thresholds = roc_curve(results['conform'], inverted_scores, pos_label=1)\n",
    "roc_auc = roc_auc_score(results['conform'], inverted_scores)\n",
    "\n",
    "# Plot ROC curve\n",
    "plt.figure()\n",
    "plt.plot(fpr, tpr, color='orange', label=f'ROC curve (area = {roc_auc:0.2f})')\n",
    "plt.plot([0, 1], [0, 1], color='darkblue', linestyle='--')\n",
    "plt.xlabel('False Positive Rate')\n",
    "plt.ylabel('True Positive Rate')\n",
    "plt.title('Receiver Operating Characteristic (ROC) Curve')\n",
    "plt.legend(loc='lower right')\n",
    "plt.show()\n",
    "\n",
    "# Print the AUC\n",
    "print(f\"ROC AUC: {roc_auc:.3f}\")"
   ]
  }
 ],
 "metadata": {
  "kernelspec": {
   "display_name": "Python 3 (ipykernel)",
   "language": "python",
   "name": "python3"
  },
  "language_info": {
   "codemirror_mode": {
    "name": "ipython",
    "version": 3
   },
   "file_extension": ".py",
   "mimetype": "text/x-python",
   "name": "python",
   "nbconvert_exporter": "python",
   "pygments_lexer": "ipython3",
   "version": "3.11.5"
  }
 },
 "nbformat": 4,
 "nbformat_minor": 5
}
