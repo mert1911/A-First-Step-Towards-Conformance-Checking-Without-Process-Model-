{
 "cells": [
  {
   "cell_type": "markdown",
   "id": "f08fc2fa",
   "metadata": {},
   "source": [
    "# Installations"
   ]
  },
  {
   "cell_type": "code",
   "execution_count": null,
   "id": "74beadea",
   "metadata": {},
   "outputs": [],
   "source": [
    "# Installations\n",
    "\n",
    "# install once necessary libraries\n",
    "\n",
    "!pip install pandas\n",
    "!pip install -U scikit-learn\n",
    "!pip install pm4py\n",
    "!pip install kneed\n",
    "!pip install torch\n",
    "!pip install Levenshtein"
   ]
  },
  {
   "cell_type": "markdown",
   "id": "470ced71",
   "metadata": {},
   "source": [
    "# Import Event Log"
   ]
  },
  {
   "cell_type": "code",
   "execution_count": 1,
   "id": "aff5c1fa",
   "metadata": {},
   "outputs": [
    {
     "data": {
      "application/vnd.jupyter.widget-view+json": {
       "model_id": "cfdd4456c2584400afa2fa3045b63aca",
       "version_major": 2,
       "version_minor": 0
      },
      "text/plain": [
       "parsing log, completed traces ::   0%|          | 0/6886 [00:00<?, ?it/s]"
      ]
     },
     "metadata": {},
     "output_type": "display_data"
    },
    {
     "name": "stderr",
     "output_type": "stream",
     "text": [
      "/Users/mert2/.conda/envs/thesis/lib/python3.11/site-packages/pm4py/objects/log/util/dataframe_utils.py:177: UserWarning: Could not infer format, so each element will be parsed individually, falling back to `dateutil`. To ensure parsing is consistent and as-expected, please specify a format.\n",
      "  df[col] = pd.to_datetime(df[col], utc=True)\n",
      "/Users/mert2/.conda/envs/thesis/lib/python3.11/site-packages/pm4py/objects/log/util/dataframe_utils.py:177: UserWarning: Could not infer format, so each element will be parsed individually, falling back to `dateutil`. To ensure parsing is consistent and as-expected, please specify a format.\n",
      "  df[col] = pd.to_datetime(df[col], utc=True)\n",
      "/Users/mert2/.conda/envs/thesis/lib/python3.11/site-packages/pm4py/objects/log/util/dataframe_utils.py:177: UserWarning: Could not infer format, so each element will be parsed individually, falling back to `dateutil`. To ensure parsing is consistent and as-expected, please specify a format.\n",
      "  df[col] = pd.to_datetime(df[col], utc=True)\n",
      "/Users/mert2/.conda/envs/thesis/lib/python3.11/site-packages/pm4py/objects/log/util/dataframe_utils.py:177: UserWarning: Could not infer format, so each element will be parsed individually, falling back to `dateutil`. To ensure parsing is consistent and as-expected, please specify a format.\n",
      "  df[col] = pd.to_datetime(df[col], utc=True)\n",
      "/Users/mert2/.conda/envs/thesis/lib/python3.11/site-packages/pm4py/objects/log/util/dataframe_utils.py:177: UserWarning: Could not infer format, so each element will be parsed individually, falling back to `dateutil`. To ensure parsing is consistent and as-expected, please specify a format.\n",
      "  df[col] = pd.to_datetime(df[col], utc=True)\n",
      "/Users/mert2/.conda/envs/thesis/lib/python3.11/site-packages/pm4py/objects/log/util/dataframe_utils.py:177: UserWarning: Could not infer format, so each element will be parsed individually, falling back to `dateutil`. To ensure parsing is consistent and as-expected, please specify a format.\n",
      "  df[col] = pd.to_datetime(df[col], utc=True)\n",
      "/Users/mert2/.conda/envs/thesis/lib/python3.11/site-packages/pm4py/objects/log/util/dataframe_utils.py:177: UserWarning: Could not infer format, so each element will be parsed individually, falling back to `dateutil`. To ensure parsing is consistent and as-expected, please specify a format.\n",
      "  df[col] = pd.to_datetime(df[col], utc=True)\n",
      "/Users/mert2/.conda/envs/thesis/lib/python3.11/site-packages/pm4py/objects/log/util/dataframe_utils.py:177: UserWarning: Could not infer format, so each element will be parsed individually, falling back to `dateutil`. To ensure parsing is consistent and as-expected, please specify a format.\n",
      "  df[col] = pd.to_datetime(df[col], utc=True)\n",
      "/Users/mert2/.conda/envs/thesis/lib/python3.11/site-packages/pm4py/objects/log/util/dataframe_utils.py:177: UserWarning: Could not infer format, so each element will be parsed individually, falling back to `dateutil`. To ensure parsing is consistent and as-expected, please specify a format.\n",
      "  df[col] = pd.to_datetime(df[col], utc=True)\n",
      "/Users/mert2/.conda/envs/thesis/lib/python3.11/site-packages/pm4py/objects/log/util/dataframe_utils.py:177: UserWarning: Could not infer format, so each element will be parsed individually, falling back to `dateutil`. To ensure parsing is consistent and as-expected, please specify a format.\n",
      "  df[col] = pd.to_datetime(df[col], utc=True)\n",
      "/Users/mert2/.conda/envs/thesis/lib/python3.11/site-packages/pm4py/objects/log/util/dataframe_utils.py:177: UserWarning: Could not infer format, so each element will be parsed individually, falling back to `dateutil`. To ensure parsing is consistent and as-expected, please specify a format.\n",
      "  df[col] = pd.to_datetime(df[col], utc=True)\n"
     ]
    },
    {
     "data": {
      "text/html": [
       "<div>\n",
       "<style scoped>\n",
       "    .dataframe tbody tr th:only-of-type {\n",
       "        vertical-align: middle;\n",
       "    }\n",
       "\n",
       "    .dataframe tbody tr th {\n",
       "        vertical-align: top;\n",
       "    }\n",
       "\n",
       "    .dataframe thead th {\n",
       "        text-align: right;\n",
       "    }\n",
       "</style>\n",
       "<table border=\"1\" class=\"dataframe\">\n",
       "  <thead>\n",
       "    <tr style=\"text-align: right;\">\n",
       "      <th></th>\n",
       "      <th>id</th>\n",
       "      <th>org:resource</th>\n",
       "      <th>concept:name</th>\n",
       "      <th>time:timestamp</th>\n",
       "      <th>org:role</th>\n",
       "      <th>case:Rfp_id</th>\n",
       "      <th>case:Project</th>\n",
       "      <th>case:Task</th>\n",
       "      <th>case:concept:name</th>\n",
       "      <th>case:OrganizationalEntity</th>\n",
       "      <th>case:Cost Type</th>\n",
       "      <th>case:RequestedAmount</th>\n",
       "      <th>case:Activity</th>\n",
       "      <th>case:RfpNumber</th>\n",
       "      <th>@@case_index</th>\n",
       "    </tr>\n",
       "  </thead>\n",
       "  <tbody>\n",
       "    <tr>\n",
       "      <th>0</th>\n",
       "      <td>st_step 148220_0</td>\n",
       "      <td>STAFF MEMBER</td>\n",
       "      <td>Request For Payment SUBMITTED by EMPLOYEE</td>\n",
       "      <td>2017-01-09 08:17:18+00:00</td>\n",
       "      <td>EMPLOYEE</td>\n",
       "      <td>request for payment 148214</td>\n",
       "      <td>project 148216</td>\n",
       "      <td>UNKNOWN</td>\n",
       "      <td>request for payment 148214</td>\n",
       "      <td>organizational unit 65463</td>\n",
       "      <td>0</td>\n",
       "      <td>34.336343</td>\n",
       "      <td>UNKNOWN</td>\n",
       "      <td>request for payment number 148215</td>\n",
       "      <td>0</td>\n",
       "    </tr>\n",
       "    <tr>\n",
       "      <th>1</th>\n",
       "      <td>st_step 148221_0</td>\n",
       "      <td>STAFF MEMBER</td>\n",
       "      <td>Request For Payment FINAL_APPROVED by SUPERVISOR</td>\n",
       "      <td>2017-01-09 08:18:00+00:00</td>\n",
       "      <td>SUPERVISOR</td>\n",
       "      <td>request for payment 148214</td>\n",
       "      <td>project 148216</td>\n",
       "      <td>UNKNOWN</td>\n",
       "      <td>request for payment 148214</td>\n",
       "      <td>organizational unit 65463</td>\n",
       "      <td>0</td>\n",
       "      <td>34.336343</td>\n",
       "      <td>UNKNOWN</td>\n",
       "      <td>request for payment number 148215</td>\n",
       "      <td>0</td>\n",
       "    </tr>\n",
       "    <tr>\n",
       "      <th>2</th>\n",
       "      <td>st_step 148222_0</td>\n",
       "      <td>STAFF MEMBER</td>\n",
       "      <td>Request For Payment REJECTED by MISSING</td>\n",
       "      <td>2017-01-10 11:42:32+00:00</td>\n",
       "      <td>MISSING</td>\n",
       "      <td>request for payment 148214</td>\n",
       "      <td>project 148216</td>\n",
       "      <td>UNKNOWN</td>\n",
       "      <td>request for payment 148214</td>\n",
       "      <td>organizational unit 65463</td>\n",
       "      <td>0</td>\n",
       "      <td>34.336343</td>\n",
       "      <td>UNKNOWN</td>\n",
       "      <td>request for payment number 148215</td>\n",
       "      <td>0</td>\n",
       "    </tr>\n",
       "    <tr>\n",
       "      <th>3</th>\n",
       "      <td>st_step 148219_0</td>\n",
       "      <td>STAFF MEMBER</td>\n",
       "      <td>Request For Payment SUBMITTED by EMPLOYEE</td>\n",
       "      <td>2017-03-03 08:51:13+00:00</td>\n",
       "      <td>EMPLOYEE</td>\n",
       "      <td>request for payment 148214</td>\n",
       "      <td>project 148216</td>\n",
       "      <td>UNKNOWN</td>\n",
       "      <td>request for payment 148214</td>\n",
       "      <td>organizational unit 65463</td>\n",
       "      <td>0</td>\n",
       "      <td>34.336343</td>\n",
       "      <td>UNKNOWN</td>\n",
       "      <td>request for payment number 148215</td>\n",
       "      <td>0</td>\n",
       "    </tr>\n",
       "    <tr>\n",
       "      <th>4</th>\n",
       "      <td>st_step 148218_0</td>\n",
       "      <td>STAFF MEMBER</td>\n",
       "      <td>Request For Payment APPROVED by PRE_APPROVER</td>\n",
       "      <td>2017-03-03 08:51:42+00:00</td>\n",
       "      <td>PRE_APPROVER</td>\n",
       "      <td>request for payment 148214</td>\n",
       "      <td>project 148216</td>\n",
       "      <td>UNKNOWN</td>\n",
       "      <td>request for payment 148214</td>\n",
       "      <td>organizational unit 65463</td>\n",
       "      <td>0</td>\n",
       "      <td>34.336343</td>\n",
       "      <td>UNKNOWN</td>\n",
       "      <td>request for payment number 148215</td>\n",
       "      <td>0</td>\n",
       "    </tr>\n",
       "    <tr>\n",
       "      <th>...</th>\n",
       "      <td>...</td>\n",
       "      <td>...</td>\n",
       "      <td>...</td>\n",
       "      <td>...</td>\n",
       "      <td>...</td>\n",
       "      <td>...</td>\n",
       "      <td>...</td>\n",
       "      <td>...</td>\n",
       "      <td>...</td>\n",
       "      <td>...</td>\n",
       "      <td>...</td>\n",
       "      <td>...</td>\n",
       "      <td>...</td>\n",
       "      <td>...</td>\n",
       "      <td>...</td>\n",
       "    </tr>\n",
       "    <tr>\n",
       "      <th>36791</th>\n",
       "      <td>st_step 185004_0</td>\n",
       "      <td>STAFF MEMBER</td>\n",
       "      <td>Request For Payment APPROVED by ADMINISTRATION</td>\n",
       "      <td>2018-12-29 11:35:02+00:00</td>\n",
       "      <td>ADMINISTRATION</td>\n",
       "      <td>request for payment 185000</td>\n",
       "      <td>project 147860</td>\n",
       "      <td>task 152704</td>\n",
       "      <td>request for payment 185000</td>\n",
       "      <td>organizational unit 65468</td>\n",
       "      <td>0</td>\n",
       "      <td>15.409660</td>\n",
       "      <td>activity 505</td>\n",
       "      <td>request for payment number 185001</td>\n",
       "      <td>6885</td>\n",
       "    </tr>\n",
       "    <tr>\n",
       "      <th>36792</th>\n",
       "      <td>st_step 185003_0</td>\n",
       "      <td>STAFF MEMBER</td>\n",
       "      <td>Request For Payment APPROVED by BUDGET OWNER</td>\n",
       "      <td>2019-01-03 08:27:20+00:00</td>\n",
       "      <td>BUDGET OWNER</td>\n",
       "      <td>request for payment 185000</td>\n",
       "      <td>project 147860</td>\n",
       "      <td>task 152704</td>\n",
       "      <td>request for payment 185000</td>\n",
       "      <td>organizational unit 65468</td>\n",
       "      <td>0</td>\n",
       "      <td>15.409660</td>\n",
       "      <td>activity 505</td>\n",
       "      <td>request for payment number 185001</td>\n",
       "      <td>6885</td>\n",
       "    </tr>\n",
       "    <tr>\n",
       "      <th>36793</th>\n",
       "      <td>st_step 185005_0</td>\n",
       "      <td>STAFF MEMBER</td>\n",
       "      <td>Request For Payment FINAL_APPROVED by SUPERVISOR</td>\n",
       "      <td>2019-01-08 08:00:39+00:00</td>\n",
       "      <td>SUPERVISOR</td>\n",
       "      <td>request for payment 185000</td>\n",
       "      <td>project 147860</td>\n",
       "      <td>task 152704</td>\n",
       "      <td>request for payment 185000</td>\n",
       "      <td>organizational unit 65468</td>\n",
       "      <td>0</td>\n",
       "      <td>15.409660</td>\n",
       "      <td>activity 505</td>\n",
       "      <td>request for payment number 185001</td>\n",
       "      <td>6885</td>\n",
       "    </tr>\n",
       "    <tr>\n",
       "      <th>36794</th>\n",
       "      <td>rp_request for payment 185000_15</td>\n",
       "      <td>SYSTEM</td>\n",
       "      <td>Request Payment</td>\n",
       "      <td>2019-01-08 08:29:14+00:00</td>\n",
       "      <td>UNDEFINED</td>\n",
       "      <td>request for payment 185000</td>\n",
       "      <td>project 147860</td>\n",
       "      <td>task 152704</td>\n",
       "      <td>request for payment 185000</td>\n",
       "      <td>organizational unit 65468</td>\n",
       "      <td>0</td>\n",
       "      <td>15.409660</td>\n",
       "      <td>activity 505</td>\n",
       "      <td>request for payment number 185001</td>\n",
       "      <td>6885</td>\n",
       "    </tr>\n",
       "    <tr>\n",
       "      <th>36795</th>\n",
       "      <td>rp_request for payment 185000_16</td>\n",
       "      <td>SYSTEM</td>\n",
       "      <td>Payment Handled</td>\n",
       "      <td>2019-01-10 16:31:09+00:00</td>\n",
       "      <td>UNDEFINED</td>\n",
       "      <td>request for payment 185000</td>\n",
       "      <td>project 147860</td>\n",
       "      <td>task 152704</td>\n",
       "      <td>request for payment 185000</td>\n",
       "      <td>organizational unit 65468</td>\n",
       "      <td>0</td>\n",
       "      <td>15.409660</td>\n",
       "      <td>activity 505</td>\n",
       "      <td>request for payment number 185001</td>\n",
       "      <td>6885</td>\n",
       "    </tr>\n",
       "  </tbody>\n",
       "</table>\n",
       "<p>36796 rows × 15 columns</p>\n",
       "</div>"
      ],
      "text/plain": [
       "                                     id  org:resource  \\\n",
       "0                      st_step 148220_0  STAFF MEMBER   \n",
       "1                      st_step 148221_0  STAFF MEMBER   \n",
       "2                      st_step 148222_0  STAFF MEMBER   \n",
       "3                      st_step 148219_0  STAFF MEMBER   \n",
       "4                      st_step 148218_0  STAFF MEMBER   \n",
       "...                                 ...           ...   \n",
       "36791                  st_step 185004_0  STAFF MEMBER   \n",
       "36792                  st_step 185003_0  STAFF MEMBER   \n",
       "36793                  st_step 185005_0  STAFF MEMBER   \n",
       "36794  rp_request for payment 185000_15        SYSTEM   \n",
       "36795  rp_request for payment 185000_16        SYSTEM   \n",
       "\n",
       "                                           concept:name  \\\n",
       "0             Request For Payment SUBMITTED by EMPLOYEE   \n",
       "1      Request For Payment FINAL_APPROVED by SUPERVISOR   \n",
       "2               Request For Payment REJECTED by MISSING   \n",
       "3             Request For Payment SUBMITTED by EMPLOYEE   \n",
       "4          Request For Payment APPROVED by PRE_APPROVER   \n",
       "...                                                 ...   \n",
       "36791    Request For Payment APPROVED by ADMINISTRATION   \n",
       "36792      Request For Payment APPROVED by BUDGET OWNER   \n",
       "36793  Request For Payment FINAL_APPROVED by SUPERVISOR   \n",
       "36794                                   Request Payment   \n",
       "36795                                   Payment Handled   \n",
       "\n",
       "                 time:timestamp        org:role                 case:Rfp_id  \\\n",
       "0     2017-01-09 08:17:18+00:00        EMPLOYEE  request for payment 148214   \n",
       "1     2017-01-09 08:18:00+00:00      SUPERVISOR  request for payment 148214   \n",
       "2     2017-01-10 11:42:32+00:00         MISSING  request for payment 148214   \n",
       "3     2017-03-03 08:51:13+00:00        EMPLOYEE  request for payment 148214   \n",
       "4     2017-03-03 08:51:42+00:00    PRE_APPROVER  request for payment 148214   \n",
       "...                         ...             ...                         ...   \n",
       "36791 2018-12-29 11:35:02+00:00  ADMINISTRATION  request for payment 185000   \n",
       "36792 2019-01-03 08:27:20+00:00    BUDGET OWNER  request for payment 185000   \n",
       "36793 2019-01-08 08:00:39+00:00      SUPERVISOR  request for payment 185000   \n",
       "36794 2019-01-08 08:29:14+00:00       UNDEFINED  request for payment 185000   \n",
       "36795 2019-01-10 16:31:09+00:00       UNDEFINED  request for payment 185000   \n",
       "\n",
       "         case:Project    case:Task           case:concept:name  \\\n",
       "0      project 148216      UNKNOWN  request for payment 148214   \n",
       "1      project 148216      UNKNOWN  request for payment 148214   \n",
       "2      project 148216      UNKNOWN  request for payment 148214   \n",
       "3      project 148216      UNKNOWN  request for payment 148214   \n",
       "4      project 148216      UNKNOWN  request for payment 148214   \n",
       "...               ...          ...                         ...   \n",
       "36791  project 147860  task 152704  request for payment 185000   \n",
       "36792  project 147860  task 152704  request for payment 185000   \n",
       "36793  project 147860  task 152704  request for payment 185000   \n",
       "36794  project 147860  task 152704  request for payment 185000   \n",
       "36795  project 147860  task 152704  request for payment 185000   \n",
       "\n",
       "       case:OrganizationalEntity  case:Cost Type  case:RequestedAmount  \\\n",
       "0      organizational unit 65463               0             34.336343   \n",
       "1      organizational unit 65463               0             34.336343   \n",
       "2      organizational unit 65463               0             34.336343   \n",
       "3      organizational unit 65463               0             34.336343   \n",
       "4      organizational unit 65463               0             34.336343   \n",
       "...                          ...             ...                   ...   \n",
       "36791  organizational unit 65468               0             15.409660   \n",
       "36792  organizational unit 65468               0             15.409660   \n",
       "36793  organizational unit 65468               0             15.409660   \n",
       "36794  organizational unit 65468               0             15.409660   \n",
       "36795  organizational unit 65468               0             15.409660   \n",
       "\n",
       "      case:Activity                     case:RfpNumber  @@case_index  \n",
       "0           UNKNOWN  request for payment number 148215             0  \n",
       "1           UNKNOWN  request for payment number 148215             0  \n",
       "2           UNKNOWN  request for payment number 148215             0  \n",
       "3           UNKNOWN  request for payment number 148215             0  \n",
       "4           UNKNOWN  request for payment number 148215             0  \n",
       "...             ...                                ...           ...  \n",
       "36791  activity 505  request for payment number 185001          6885  \n",
       "36792  activity 505  request for payment number 185001          6885  \n",
       "36793  activity 505  request for payment number 185001          6885  \n",
       "36794  activity 505  request for payment number 185001          6885  \n",
       "36795  activity 505  request for payment number 185001          6885  \n",
       "\n",
       "[36796 rows x 15 columns]"
      ]
     },
     "execution_count": 1,
     "metadata": {},
     "output_type": "execute_result"
    }
   ],
   "source": [
    "import pandas as pd\n",
    "import numpy as np\n",
    "import pm4py\n",
    "from pm4py.objects.conversion.log import converter as log_converter\n",
    "\n",
    "if __name__ == \"__main__\":\n",
    "    # Read the XES file\n",
    "    dataframe = pm4py.read_xes('RequestForPayment.xes')\n",
    "\n",
    "    # If 'log' is already a DataFrame, add the @@case_index column directly\n",
    "    case_indices = {case_id: idx for idx, case_id in enumerate(dataframe['case:concept:name'].unique())}\n",
    "    dataframe['@@case_index'] = dataframe['case:concept:name'].map(case_indices)\n",
    "    \n",
    "     # Convert the dataframe to event log\n",
    "    log = log_converter.apply(dataframe)\n",
    "    \n",
    "dataframe"
   ]
  },
  {
   "cell_type": "markdown",
   "id": "bc33e362",
   "metadata": {},
   "source": [
    "# Data Preprocessing"
   ]
  },
  {
   "cell_type": "code",
   "execution_count": 2,
   "id": "f3b6beab",
   "metadata": {},
   "outputs": [],
   "source": [
    "# Group by '@@case_index' and join the 'concept:name' into a single string separated by a delimiter\n",
    "grouped = dataframe.groupby('@@case_index')['concept:name'].apply(lambda x: ','.join(x)).reset_index()\n",
    "grouped.columns = ['@@case_index', 'trace']"
   ]
  },
  {
   "cell_type": "code",
   "execution_count": 3,
   "id": "7372594a",
   "metadata": {},
   "outputs": [],
   "source": [
    "import Levenshtein\n",
    "\n",
    "# First, find the unique traces and their indices\n",
    "unique_traces = grouped['trace'].drop_duplicates()\n",
    "num_unique_traces = len(unique_traces)\n",
    "\n",
    "# Initialize a distance matrix for unique traces\n",
    "unique_distance_matrix = np.zeros((num_unique_traces, num_unique_traces))\n",
    "\n",
    "# Calculate Levenshtein distance for pairs of unique traces\n",
    "for i in range(num_unique_traces):\n",
    "    for j in range(i+1, num_unique_traces):\n",
    "        distance = Levenshtein.distance(unique_traces.iloc[i], unique_traces.iloc[j])\n",
    "        unique_distance_matrix[i, j] = distance\n",
    "        unique_distance_matrix[j, i] = distance  # The distance is symmetric"
   ]
  },
  {
   "cell_type": "code",
   "execution_count": 4,
   "id": "7baa7469",
   "metadata": {},
   "outputs": [],
   "source": [
    "# Let's assume you've extracted unique traces into a Series called `unique_traces`\n",
    "unique_traces = grouped['trace'].drop_duplicates()\n",
    "\n",
    "# Create a mapping from unique trace to an index\n",
    "unique_trace_to_idx = {trace: idx for idx, trace in enumerate(unique_traces)}\n",
    "\n",
    "# Add a 'unique_idx' column to `grouped` DataFrame\n",
    "grouped['unique_idx'] = grouped['trace'].map(unique_trace_to_idx)"
   ]
  },
  {
   "cell_type": "code",
   "execution_count": 5,
   "id": "1c73c5e0",
   "metadata": {},
   "outputs": [],
   "source": [
    "# Create a NumPy array from the 'unique_idx' Pandas Series for fast indexing\n",
    "unique_idx_array = grouped['unique_idx'].to_numpy()\n",
    "\n",
    "# Initialize a distance matrix for all traces\n",
    "distance_matrix = np.zeros((len(grouped), len(grouped)))\n",
    "\n",
    "# Populate the all_distance_matrix based on unique_distance_matrix\n",
    "for i in range(len(grouped)):\n",
    "    distance_matrix[i, :] = unique_distance_matrix[unique_idx_array[i], unique_idx_array]\n",
    "    distance_matrix[:, i] = unique_distance_matrix[unique_idx_array, unique_idx_array[i]]\n",
    "\n",
    "# Since distance is symmetric, and diagonal should be zeros\n",
    "np.fill_diagonal(distance_matrix, 0)"
   ]
  },
  {
   "cell_type": "code",
   "execution_count": 6,
   "id": "795bc2d3",
   "metadata": {},
   "outputs": [],
   "source": [
    "# Find the maximum distance in the matrix\n",
    "max_distance = np.max(distance_matrix)\n",
    "\n",
    "# Avoid division by zero in case all distances are zero\n",
    "if max_distance != 0:\n",
    "    # Normalize the distance matrix\n",
    "    normalized_distance_matrix = distance_matrix / max_distance\n",
    "else:\n",
    "    # If max_distance is 0, it means all distances are zero\n",
    "    normalized_distance_matrix = distance_matrix"
   ]
  },
  {
   "cell_type": "markdown",
   "id": "23fdcbfe",
   "metadata": {},
   "source": [
    "# Clustering"
   ]
  },
  {
   "cell_type": "code",
   "execution_count": 7,
   "id": "42b2878e",
   "metadata": {},
   "outputs": [
    {
     "name": "stderr",
     "output_type": "stream",
     "text": [
      "/Users/mert2/.conda/envs/thesis/lib/python3.11/site-packages/sklearn/cluster/_kmeans.py:1416: FutureWarning: The default value of `n_init` will change from 10 to 'auto' in 1.4. Set the value of `n_init` explicitly to suppress the warning\n",
      "  super()._check_params_vs_input(X, default_n_init=10)\n",
      "/Users/mert2/.conda/envs/thesis/lib/python3.11/site-packages/sklearn/cluster/_kmeans.py:1416: FutureWarning: The default value of `n_init` will change from 10 to 'auto' in 1.4. Set the value of `n_init` explicitly to suppress the warning\n",
      "  super()._check_params_vs_input(X, default_n_init=10)\n",
      "/Users/mert2/.conda/envs/thesis/lib/python3.11/site-packages/sklearn/cluster/_kmeans.py:1416: FutureWarning: The default value of `n_init` will change from 10 to 'auto' in 1.4. Set the value of `n_init` explicitly to suppress the warning\n",
      "  super()._check_params_vs_input(X, default_n_init=10)\n",
      "/Users/mert2/.conda/envs/thesis/lib/python3.11/site-packages/sklearn/cluster/_kmeans.py:1416: FutureWarning: The default value of `n_init` will change from 10 to 'auto' in 1.4. Set the value of `n_init` explicitly to suppress the warning\n",
      "  super()._check_params_vs_input(X, default_n_init=10)\n",
      "/Users/mert2/.conda/envs/thesis/lib/python3.11/site-packages/sklearn/cluster/_kmeans.py:1416: FutureWarning: The default value of `n_init` will change from 10 to 'auto' in 1.4. Set the value of `n_init` explicitly to suppress the warning\n",
      "  super()._check_params_vs_input(X, default_n_init=10)\n",
      "/Users/mert2/.conda/envs/thesis/lib/python3.11/site-packages/sklearn/cluster/_kmeans.py:1416: FutureWarning: The default value of `n_init` will change from 10 to 'auto' in 1.4. Set the value of `n_init` explicitly to suppress the warning\n",
      "  super()._check_params_vs_input(X, default_n_init=10)\n",
      "/Users/mert2/.conda/envs/thesis/lib/python3.11/site-packages/sklearn/cluster/_kmeans.py:1416: FutureWarning: The default value of `n_init` will change from 10 to 'auto' in 1.4. Set the value of `n_init` explicitly to suppress the warning\n",
      "  super()._check_params_vs_input(X, default_n_init=10)\n",
      "/Users/mert2/.conda/envs/thesis/lib/python3.11/site-packages/sklearn/cluster/_kmeans.py:1416: FutureWarning: The default value of `n_init` will change from 10 to 'auto' in 1.4. Set the value of `n_init` explicitly to suppress the warning\n",
      "  super()._check_params_vs_input(X, default_n_init=10)\n",
      "/Users/mert2/.conda/envs/thesis/lib/python3.11/site-packages/sklearn/cluster/_kmeans.py:1416: FutureWarning: The default value of `n_init` will change from 10 to 'auto' in 1.4. Set the value of `n_init` explicitly to suppress the warning\n",
      "  super()._check_params_vs_input(X, default_n_init=10)\n"
     ]
    },
    {
     "data": {
      "image/png": "[encoded data removed]",
      "text/plain": [
       "<Figure size 800x600 with 1 Axes>"
      ]
     },
     "metadata": {},
     "output_type": "display_data"
    },
    {
     "name": "stdout",
     "output_type": "stream",
     "text": [
      "Optimal number of clusters: 3\n"
     ]
    }
   ],
   "source": [
    "from sklearn.cluster import KMeans\n",
    "import matplotlib.pyplot as plt\n",
    "from kneed import KneeLocator\n",
    "\n",
    "# Elbow method to determine the optimal number of clusters\n",
    "distortions = []\n",
    "K = range(1, 10)\n",
    "for k in K:\n",
    "    kmeanModel = KMeans(n_clusters=k)\n",
    "    kmeanModel.fit(normalized_distance_matrix)\n",
    "    distortions.append(kmeanModel.inertia_)\n",
    "\n",
    "# Plot the elbow graph\n",
    "plt.figure(figsize=(8,6))\n",
    "plt.plot(K, distortions, 'bx-')\n",
    "plt.xlabel('Number of Clusters')\n",
    "plt.ylabel('SSE')\n",
    "plt.title('The Elbow Method showing the optimal k')\n",
    "plt.show()\n",
    "\n",
    "# Find the elbow point\n",
    "kl = KneeLocator(range(1, 10), distortions, curve=\"convex\", direction=\"decreasing\")\n",
    "print(\"Optimal number of clusters:\", kl.elbow)"
   ]
  },
  {
   "cell_type": "code",
   "execution_count": 8,
   "id": "1bdfa64a",
   "metadata": {},
   "outputs": [
    {
     "name": "stderr",
     "output_type": "stream",
     "text": [
      "/Users/mert2/.conda/envs/thesis/lib/python3.11/site-packages/sklearn/cluster/_kmeans.py:1416: FutureWarning: The default value of `n_init` will change from 10 to 'auto' in 1.4. Set the value of `n_init` explicitly to suppress the warning\n",
      "  super()._check_params_vs_input(X, default_n_init=10)\n"
     ]
    }
   ],
   "source": [
    "from sklearn.cluster import KMeans\n",
    "\n",
    "# Number of clusters\n",
    "k = kl.elbow\n",
    "\n",
    "# Create a KMeans instance with k clusters\n",
    "kmeans = KMeans(n_clusters=k, random_state=42)\n",
    "\n",
    "# Fit the model to the data\n",
    "kmeans.fit(normalized_distance_matrix)\n",
    "\n",
    "# Predict the clusters for each trace\n",
    "clusters = kmeans.predict(normalized_distance_matrix)"
   ]
  },
  {
   "cell_type": "markdown",
   "id": "6c340148",
   "metadata": {},
   "source": [
    "# Cluster Evaluation"
   ]
  },
  {
   "cell_type": "code",
   "execution_count": 9,
   "id": "f4876e74",
   "metadata": {},
   "outputs": [
    {
     "name": "stdout",
     "output_type": "stream",
     "text": [
      "Silhouette Coefficient: 0.70\n"
     ]
    }
   ],
   "source": [
    "# the value of the silhouette coefficient ranges between -1 and 1\n",
    "# value close to 1 is considered as good\n",
    "\n",
    "from sklearn.metrics import silhouette_score\n",
    "\n",
    "# Calculate silhouette score\n",
    "silhouette_avg = silhouette_score(normalized_distance_matrix, clusters)\n",
    "\n",
    "print(f\"Silhouette Coefficient: {silhouette_avg:.2f}\")"
   ]
  },
  {
   "cell_type": "markdown",
   "id": "5d52a63b",
   "metadata": {},
   "source": [
    "# Token-Based Replay for Conformance Checking"
   ]
  },
  {
   "cell_type": "code",
   "execution_count": 10,
   "id": "b724341d",
   "metadata": {},
   "outputs": [
    {
     "data": {
      "application/vnd.jupyter.widget-view+json": {
       "model_id": "b834cfae5f8c4de9b999c26763a51f1f",
       "version_major": 2,
       "version_minor": 0
      },
      "text/plain": [
       "replaying log with TBR, completed variants ::   0%|          | 0/89 [00:00<?, ?it/s]"
      ]
     },
     "metadata": {},
     "output_type": "display_data"
    },
    {
     "name": "stdout",
     "output_type": "stream",
     "text": [
      "Total traces: 6886\n",
      "Conform traces: 5191\n",
      "Non-Conform traces: 1695\n"
     ]
    }
   ],
   "source": [
    "import pm4py\n",
    "from pm4py.objects.log.importer.xes import importer as xes_importer\n",
    "from pm4py.objects.bpmn.importer import importer as bpmn_importer\n",
    "from pm4py.algo.conformance.alignments.petri_net import algorithm as alignments_petri\n",
    "\n",
    "# 2. Import the given BPMN model\n",
    "bpmn_graph = bpmn_importer.apply(\"Model_RequestForPayment.bpmn\")\n",
    "\n",
    "# 3. Convert the BPMN to a Petri net\n",
    "net, im, fm = pm4py.convert_to_petri_net(bpmn_graph)\n",
    "\n",
    "# 4. Perform alignment-based conformance checking\n",
    "alignments = alignments_petri.apply(log, net, im, fm)\n",
    "\n",
    "# Calculate and print diagnostics\n",
    "fit_traces = sum(1 for trace in alignments if trace['fitness'] == 1.0)\n",
    "\n",
    "print(f\"Total traces: {len(log)}\")\n",
    "print(f\"Conform traces: {fit_traces}\")\n",
    "print(f\"Non-Conform traces: {len(log) - fit_traces}\")"
   ]
  },
  {
   "cell_type": "markdown",
   "id": "f338a848",
   "metadata": {},
   "source": [
    "# Input Traces"
   ]
  },
  {
   "cell_type": "code",
   "execution_count": 11,
   "id": "aef4e92c",
   "metadata": {},
   "outputs": [],
   "source": [
    "trace1 = ['Request For Payment SUBMITTED by EMPLOYEE', 'Request For Payment APPROVED by ADMINISTRATION', 'Request For Payment FINAL_APPROVED by SUPERVISOR', 'Request Payment', 'Payment Handled']\n",
    "trace2 = ['Request For Payment SUBMITTED by EMPLOYEE', 'Request For Payment APPROVED by ADMINISTRATION', 'Request For Payment APPROVED by BUDGET OWNER', 'Request For Payment FINAL_APPROVED by SUPERVISOR', 'Request Payment', 'Payment Handled']\n",
    "trace3 = ['Request For Payment SUBMITTED by EMPLOYEE', 'Request For Payment REJECTED by ADMINISTRATION', 'Request For Payment REJECTED by EMPLOYEE']"
   ]
  },
  {
   "cell_type": "code",
   "execution_count": 12,
   "id": "77a495fc",
   "metadata": {},
   "outputs": [],
   "source": [
    "grouped = dataframe.groupby('@@case_index')['concept:name'].apply(list).reset_index(name='trace')"
   ]
  },
  {
   "cell_type": "code",
   "execution_count": 13,
   "id": "1c4ae62d",
   "metadata": {},
   "outputs": [],
   "source": [
    "def is_happy_trace(row_trace):\n",
    "    predefined_traces = [trace1, trace2, trace3]\n",
    "    for trace in predefined_traces:\n",
    "        if row_trace == trace:\n",
    "            return 1\n",
    "    return 0"
   ]
  },
  {
   "cell_type": "code",
   "execution_count": 14,
   "id": "f789d9f4",
   "metadata": {},
   "outputs": [
    {
     "data": {
      "text/html": [
       "<div>\n",
       "<style scoped>\n",
       "    .dataframe tbody tr th:only-of-type {\n",
       "        vertical-align: middle;\n",
       "    }\n",
       "\n",
       "    .dataframe tbody tr th {\n",
       "        vertical-align: top;\n",
       "    }\n",
       "\n",
       "    .dataframe thead th {\n",
       "        text-align: right;\n",
       "    }\n",
       "</style>\n",
       "<table border=\"1\" class=\"dataframe\">\n",
       "  <thead>\n",
       "    <tr style=\"text-align: right;\">\n",
       "      <th></th>\n",
       "      <th>@@case_index</th>\n",
       "      <th>trace</th>\n",
       "      <th>happy</th>\n",
       "    </tr>\n",
       "  </thead>\n",
       "  <tbody>\n",
       "    <tr>\n",
       "      <th>0</th>\n",
       "      <td>0</td>\n",
       "      <td>[Request For Payment SUBMITTED by EMPLOYEE, Re...</td>\n",
       "      <td>0</td>\n",
       "    </tr>\n",
       "    <tr>\n",
       "      <th>1</th>\n",
       "      <td>1</td>\n",
       "      <td>[Request For Payment SUBMITTED by EMPLOYEE, Re...</td>\n",
       "      <td>0</td>\n",
       "    </tr>\n",
       "    <tr>\n",
       "      <th>2</th>\n",
       "      <td>2</td>\n",
       "      <td>[Request For Payment SUBMITTED by EMPLOYEE, Re...</td>\n",
       "      <td>0</td>\n",
       "    </tr>\n",
       "    <tr>\n",
       "      <th>3</th>\n",
       "      <td>3</td>\n",
       "      <td>[Request For Payment SUBMITTED by EMPLOYEE, Re...</td>\n",
       "      <td>0</td>\n",
       "    </tr>\n",
       "    <tr>\n",
       "      <th>4</th>\n",
       "      <td>4</td>\n",
       "      <td>[Request For Payment SUBMITTED by EMPLOYEE, Re...</td>\n",
       "      <td>0</td>\n",
       "    </tr>\n",
       "    <tr>\n",
       "      <th>...</th>\n",
       "      <td>...</td>\n",
       "      <td>...</td>\n",
       "      <td>...</td>\n",
       "    </tr>\n",
       "    <tr>\n",
       "      <th>6881</th>\n",
       "      <td>6881</td>\n",
       "      <td>[Request For Payment SUBMITTED by EMPLOYEE, Re...</td>\n",
       "      <td>1</td>\n",
       "    </tr>\n",
       "    <tr>\n",
       "      <th>6882</th>\n",
       "      <td>6882</td>\n",
       "      <td>[Request For Payment SUBMITTED by EMPLOYEE, Re...</td>\n",
       "      <td>1</td>\n",
       "    </tr>\n",
       "    <tr>\n",
       "      <th>6883</th>\n",
       "      <td>6883</td>\n",
       "      <td>[Request For Payment SUBMITTED by EMPLOYEE, Re...</td>\n",
       "      <td>1</td>\n",
       "    </tr>\n",
       "    <tr>\n",
       "      <th>6884</th>\n",
       "      <td>6884</td>\n",
       "      <td>[Request For Payment SUBMITTED by EMPLOYEE, Re...</td>\n",
       "      <td>1</td>\n",
       "    </tr>\n",
       "    <tr>\n",
       "      <th>6885</th>\n",
       "      <td>6885</td>\n",
       "      <td>[Request For Payment SUBMITTED by EMPLOYEE, Re...</td>\n",
       "      <td>1</td>\n",
       "    </tr>\n",
       "  </tbody>\n",
       "</table>\n",
       "<p>6886 rows × 3 columns</p>\n",
       "</div>"
      ],
      "text/plain": [
       "      @@case_index                                              trace  happy\n",
       "0                0  [Request For Payment SUBMITTED by EMPLOYEE, Re...      0\n",
       "1                1  [Request For Payment SUBMITTED by EMPLOYEE, Re...      0\n",
       "2                2  [Request For Payment SUBMITTED by EMPLOYEE, Re...      0\n",
       "3                3  [Request For Payment SUBMITTED by EMPLOYEE, Re...      0\n",
       "4                4  [Request For Payment SUBMITTED by EMPLOYEE, Re...      0\n",
       "...            ...                                                ...    ...\n",
       "6881          6881  [Request For Payment SUBMITTED by EMPLOYEE, Re...      1\n",
       "6882          6882  [Request For Payment SUBMITTED by EMPLOYEE, Re...      1\n",
       "6883          6883  [Request For Payment SUBMITTED by EMPLOYEE, Re...      1\n",
       "6884          6884  [Request For Payment SUBMITTED by EMPLOYEE, Re...      1\n",
       "6885          6885  [Request For Payment SUBMITTED by EMPLOYEE, Re...      1\n",
       "\n",
       "[6886 rows x 3 columns]"
      ]
     },
     "execution_count": 14,
     "metadata": {},
     "output_type": "execute_result"
    }
   ],
   "source": [
    "grouped['happy'] = grouped['trace'].apply(is_happy_trace)\n",
    "grouped"
   ]
  },
  {
   "cell_type": "code",
   "execution_count": 15,
   "id": "a58faf9d",
   "metadata": {},
   "outputs": [],
   "source": [
    "# Get indices of the happy traces in the results dataframe\n",
    "happy_trace_indices = grouped[grouped['happy'] == 1].index.tolist()\n",
    "\n",
    "# Extract the corresponding coordinates from the trace_representations array\n",
    "happy_trace_coordinates = normalized_distance_matrix[happy_trace_indices]\n",
    "\n",
    "# Extract unique coordinates\n",
    "unique_happy_trace_coordinates = np.unique(happy_trace_coordinates, axis=0)\n",
    "\n",
    "# Assuming the size of unique_happy_trace_coordinates is 3\n",
    "#happy_trace1, happy_trace2, happy_trace3 = unique_happy_trace_coordinates\n",
    "happy_trace1, happy_trace2, happy_trace3 = unique_happy_trace_coordinates"
   ]
  },
  {
   "cell_type": "markdown",
   "id": "c8e4cb1d",
   "metadata": {},
   "source": [
    "# Distance Measurement"
   ]
  },
  {
   "cell_type": "code",
   "execution_count": 16,
   "id": "2269fbf0",
   "metadata": {},
   "outputs": [],
   "source": [
    "from scipy.spatial.distance import euclidean\n",
    "\n",
    "# Calculate the distances to each of the happy traces for every trace representation\n",
    "distances_to_happy_traces = []\n",
    "\n",
    "for trace_representation in normalized_distance_matrix:\n",
    "    distances = [\n",
    "        euclidean(trace_representation, happy_trace1),\n",
    "        euclidean(trace_representation, happy_trace2),\n",
    "        euclidean(trace_representation, happy_trace3)\n",
    "    ]\n",
    "    distances_to_happy_traces.append(distances)\n",
    "\n",
    "# Calculate the average distance to the happy traces for each trace representation\n",
    "avg_distances = [np.mean(distances) for distances in distances_to_happy_traces]\n",
    "\n",
    "# Save the distances in a variable\n",
    "avg_distances_var = np.array(avg_distances)"
   ]
  },
  {
   "cell_type": "markdown",
   "id": "fbabb999",
   "metadata": {},
   "source": [
    "# Results overview"
   ]
  },
  {
   "cell_type": "code",
   "execution_count": 17,
   "id": "d2fab440",
   "metadata": {},
   "outputs": [
    {
     "data": {
      "text/html": [
       "<div>\n",
       "<style scoped>\n",
       "    .dataframe tbody tr th:only-of-type {\n",
       "        vertical-align: middle;\n",
       "    }\n",
       "\n",
       "    .dataframe tbody tr th {\n",
       "        vertical-align: top;\n",
       "    }\n",
       "\n",
       "    .dataframe thead th {\n",
       "        text-align: right;\n",
       "    }\n",
       "</style>\n",
       "<table border=\"1\" class=\"dataframe\">\n",
       "  <thead>\n",
       "    <tr style=\"text-align: right;\">\n",
       "      <th></th>\n",
       "      <th>trace</th>\n",
       "      <th>cluster</th>\n",
       "      <th>conform</th>\n",
       "      <th>distance</th>\n",
       "    </tr>\n",
       "  </thead>\n",
       "  <tbody>\n",
       "    <tr>\n",
       "      <th>0</th>\n",
       "      <td>[Request For Payment SUBMITTED by EMPLOYEE, Re...</td>\n",
       "      <td>2</td>\n",
       "      <td>0</td>\n",
       "      <td>10.293383</td>\n",
       "    </tr>\n",
       "    <tr>\n",
       "      <th>1</th>\n",
       "      <td>[Request For Payment SUBMITTED by EMPLOYEE, Re...</td>\n",
       "      <td>1</td>\n",
       "      <td>0</td>\n",
       "      <td>4.477878</td>\n",
       "    </tr>\n",
       "    <tr>\n",
       "      <th>2</th>\n",
       "      <td>[Request For Payment SUBMITTED by EMPLOYEE, Re...</td>\n",
       "      <td>0</td>\n",
       "      <td>0</td>\n",
       "      <td>6.604723</td>\n",
       "    </tr>\n",
       "    <tr>\n",
       "      <th>3</th>\n",
       "      <td>[Request For Payment SUBMITTED by EMPLOYEE, Re...</td>\n",
       "      <td>2</td>\n",
       "      <td>0</td>\n",
       "      <td>10.293383</td>\n",
       "    </tr>\n",
       "    <tr>\n",
       "      <th>4</th>\n",
       "      <td>[Request For Payment SUBMITTED by EMPLOYEE, Re...</td>\n",
       "      <td>2</td>\n",
       "      <td>0</td>\n",
       "      <td>10.293383</td>\n",
       "    </tr>\n",
       "    <tr>\n",
       "      <th>...</th>\n",
       "      <td>...</td>\n",
       "      <td>...</td>\n",
       "      <td>...</td>\n",
       "      <td>...</td>\n",
       "    </tr>\n",
       "    <tr>\n",
       "      <th>6881</th>\n",
       "      <td>[Request For Payment SUBMITTED by EMPLOYEE, Re...</td>\n",
       "      <td>1</td>\n",
       "      <td>1</td>\n",
       "      <td>3.389597</td>\n",
       "    </tr>\n",
       "    <tr>\n",
       "      <th>6882</th>\n",
       "      <td>[Request For Payment SUBMITTED by EMPLOYEE, Re...</td>\n",
       "      <td>1</td>\n",
       "      <td>1</td>\n",
       "      <td>3.389597</td>\n",
       "    </tr>\n",
       "    <tr>\n",
       "      <th>6883</th>\n",
       "      <td>[Request For Payment SUBMITTED by EMPLOYEE, Re...</td>\n",
       "      <td>1</td>\n",
       "      <td>1</td>\n",
       "      <td>3.389597</td>\n",
       "    </tr>\n",
       "    <tr>\n",
       "      <th>6884</th>\n",
       "      <td>[Request For Payment SUBMITTED by EMPLOYEE, Re...</td>\n",
       "      <td>0</td>\n",
       "      <td>1</td>\n",
       "      <td>3.753663</td>\n",
       "    </tr>\n",
       "    <tr>\n",
       "      <th>6885</th>\n",
       "      <td>[Request For Payment SUBMITTED by EMPLOYEE, Re...</td>\n",
       "      <td>0</td>\n",
       "      <td>1</td>\n",
       "      <td>3.753663</td>\n",
       "    </tr>\n",
       "  </tbody>\n",
       "</table>\n",
       "<p>6886 rows × 4 columns</p>\n",
       "</div>"
      ],
      "text/plain": [
       "                                                  trace  cluster  conform  \\\n",
       "0     [Request For Payment SUBMITTED by EMPLOYEE, Re...        2        0   \n",
       "1     [Request For Payment SUBMITTED by EMPLOYEE, Re...        1        0   \n",
       "2     [Request For Payment SUBMITTED by EMPLOYEE, Re...        0        0   \n",
       "3     [Request For Payment SUBMITTED by EMPLOYEE, Re...        2        0   \n",
       "4     [Request For Payment SUBMITTED by EMPLOYEE, Re...        2        0   \n",
       "...                                                 ...      ...      ...   \n",
       "6881  [Request For Payment SUBMITTED by EMPLOYEE, Re...        1        1   \n",
       "6882  [Request For Payment SUBMITTED by EMPLOYEE, Re...        1        1   \n",
       "6883  [Request For Payment SUBMITTED by EMPLOYEE, Re...        1        1   \n",
       "6884  [Request For Payment SUBMITTED by EMPLOYEE, Re...        0        1   \n",
       "6885  [Request For Payment SUBMITTED by EMPLOYEE, Re...        0        1   \n",
       "\n",
       "       distance  \n",
       "0     10.293383  \n",
       "1      4.477878  \n",
       "2      6.604723  \n",
       "3     10.293383  \n",
       "4     10.293383  \n",
       "...         ...  \n",
       "6881   3.389597  \n",
       "6882   3.389597  \n",
       "6883   3.389597  \n",
       "6884   3.753663  \n",
       "6885   3.753663  \n",
       "\n",
       "[6886 rows x 4 columns]"
      ]
     },
     "execution_count": 17,
     "metadata": {},
     "output_type": "execute_result"
    }
   ],
   "source": [
    "# create dataframe with necessary information for distance measurement\n",
    "\n",
    "#grouped = dataframe.groupby('@@case_index')['concept:name'].apply(list).reset_index(name='trace')\n",
    "\n",
    "results = pd.DataFrame(grouped['trace'])\n",
    "\n",
    "results['cluster'] = clusters\n",
    "\n",
    "conformity_array = [int(trace['fitness']) for trace in alignments]\n",
    "results['conform'] = conformity_array\n",
    "\n",
    "results['distance'] = avg_distances_var\n",
    "\n",
    "results"
   ]
  },
  {
   "cell_type": "code",
   "execution_count": 18,
   "id": "56e7d040",
   "metadata": {},
   "outputs": [
    {
     "name": "stdout",
     "output_type": "stream",
     "text": [
      "cluster\tcount\tconform_count\n",
      "0\t1830\t1798\n",
      "1\t4409\t3388\n",
      "2\t647\t5\n"
     ]
    }
   ],
   "source": [
    "summary = results.groupby('cluster').agg(\n",
    "    count=pd.NamedAgg(column='trace', aggfunc='size'),\n",
    "    conform_count=pd.NamedAgg(column='conform', aggfunc='sum')\n",
    ").reset_index()\n",
    "\n",
    "print(\"cluster\\tcount\\tconform_count\")\n",
    "for _, row in summary.iterrows():\n",
    "    print(f\"{row['cluster']}\\t{row['count']}\\t{row['conform_count']}\")"
   ]
  },
  {
   "cell_type": "markdown",
   "id": "6c10cea9",
   "metadata": {},
   "source": [
    "# Evaluation"
   ]
  },
  {
   "cell_type": "code",
   "execution_count": 19,
   "id": "5272c55f",
   "metadata": {},
   "outputs": [
    {
     "name": "stderr",
     "output_type": "stream",
     "text": [
      "/Users/mert2/.conda/envs/thesis/lib/python3.11/site-packages/sklearn/cluster/_kmeans.py:1416: FutureWarning: The default value of `n_init` will change from 10 to 'auto' in 1.4. Set the value of `n_init` explicitly to suppress the warning\n",
      "  super()._check_params_vs_input(X, default_n_init=10)\n"
     ]
    },
    {
     "data": {
      "image/png": "[encoded data removed]",
      "text/plain": [
       "<Figure size 640x480 with 1 Axes>"
      ]
     },
     "metadata": {},
     "output_type": "display_data"
    }
   ],
   "source": [
    "from sklearn.cluster import KMeans\n",
    "\n",
    "# Filter the DataFrame into conforming and non-conforming subsets\n",
    "conforming_distances = results[results['conform'] == 1]['distance']\n",
    "non_conforming_distances = results[results['conform'] == 0]['distance']\n",
    "\n",
    "# Determine common bin edges\n",
    "min_distance = min(results['distance'])\n",
    "max_distance = max(results['distance'])\n",
    "bin_edges = np.linspace(min_distance, max_distance, num=30)\n",
    "\n",
    "# Combine the data and reshape for k-means\n",
    "all_distances = results['distance']\n",
    "all_distances = np.array(all_distances)\n",
    "all_distances_reshaped = all_distances.reshape(-1, 1)\n",
    "\n",
    "# Apply k-means clustering\n",
    "kmeans = KMeans(n_clusters=2, random_state=0).fit(all_distances_reshaped)\n",
    "kmeans_labels = kmeans.labels_\n",
    "\n",
    "# Find the threshold as the average of the two cluster centers\n",
    "threshold_value = np.mean(kmeans.cluster_centers_)\n",
    "\n",
    "# Plot histograms and the threshold\n",
    "plt.hist(conforming_distances, bins=bin_edges, alpha=0.5, label='Conforming', color='green')\n",
    "plt.hist(non_conforming_distances, bins=bin_edges, alpha=0.5, label='Non-Conforming', color='red')\n",
    "plt.axvline(threshold_value, color='blue', linestyle='dashed', linewidth=1, label='Threshold')\n",
    "plt.xlabel('Distance')\n",
    "plt.ylabel('Frequency')\n",
    "plt.legend(loc='upper right')\n",
    "plt.title(f'Threshold at {threshold_value:.2f}')\n",
    "plt.show()"
   ]
  },
  {
   "cell_type": "code",
   "execution_count": 20,
   "id": "a27daa85",
   "metadata": {},
   "outputs": [],
   "source": [
    "true_positive = np.sum(results[results['conform'] == 1]['distance'] < threshold_value)\n",
    "true_negative = np.sum(results[results['conform'] == 0]['distance'] > threshold_value)\n",
    "false_positive = np.sum(results[results['conform'] == 0]['distance'] < threshold_value)\n",
    "false_negative = np.sum(results[results['conform'] == 1]['distance'] > threshold_value)"
   ]
  },
  {
   "cell_type": "code",
   "execution_count": 21,
   "id": "5434efa5",
   "metadata": {},
   "outputs": [
    {
     "name": "stdout",
     "output_type": "stream",
     "text": [
      "Accuracy: 0.843\n"
     ]
    }
   ],
   "source": [
    "# Calculate accuracy\n",
    "accuracy = (true_positive + true_negative) / (true_positive + true_negative + false_positive + false_negative)\n",
    "print(f\"Accuracy: {accuracy:.3f}\")"
   ]
  },
  {
   "cell_type": "code",
   "execution_count": 22,
   "id": "516074cb",
   "metadata": {},
   "outputs": [
    {
     "name": "stdout",
     "output_type": "stream",
     "text": [
      "Precision: 0.829\n"
     ]
    }
   ],
   "source": [
    "# Calculate precision\n",
    "precision = true_positive / (true_positive + false_positive)\n",
    "print(f\"Precision: {precision:.3f}\")"
   ]
  },
  {
   "cell_type": "code",
   "execution_count": 23,
   "id": "d2a4b0aa",
   "metadata": {},
   "outputs": [
    {
     "name": "stdout",
     "output_type": "stream",
     "text": [
      "Recall: 0.999\n"
     ]
    }
   ],
   "source": [
    "# Calculate recall\n",
    "recall = true_positive / (true_positive + false_negative)\n",
    "print(f\"Recall: {recall:.3f}\")"
   ]
  },
  {
   "cell_type": "code",
   "execution_count": 24,
   "id": "ea347437",
   "metadata": {},
   "outputs": [
    {
     "name": "stdout",
     "output_type": "stream",
     "text": [
      "F1: 0.906\n"
     ]
    }
   ],
   "source": [
    "# Calculate f1\n",
    "f1 = 2 * ((precision * recall) / (precision + recall))\n",
    "print(f\"F1: {f1:.3f}\")"
   ]
  },
  {
   "cell_type": "markdown",
   "id": "d761f7a5",
   "metadata": {},
   "source": [
    "# Dev (Non Conform Traces)"
   ]
  },
  {
   "cell_type": "code",
   "execution_count": 25,
   "id": "85781abb",
   "metadata": {},
   "outputs": [
    {
     "name": "stdout",
     "output_type": "stream",
     "text": [
      "Precision: 0.992\n"
     ]
    }
   ],
   "source": [
    "# Calculate precision for Dev\n",
    "precision = true_negative / (true_negative + false_negative)\n",
    "print(f\"Precision: {precision:.3f}\")"
   ]
  },
  {
   "cell_type": "code",
   "execution_count": 26,
   "id": "9b51ddc5",
   "metadata": {},
   "outputs": [
    {
     "name": "stdout",
     "output_type": "stream",
     "text": [
      "Recall: 0.367\n"
     ]
    }
   ],
   "source": [
    "# Calculate recall for Dev\n",
    "recall = true_negative / (true_negative + false_positive)\n",
    "print(f\"Recall: {recall:.3f}\")"
   ]
  },
  {
   "cell_type": "markdown",
   "id": "5970c793",
   "metadata": {},
   "source": [
    "# No Dev (Conform Traces)"
   ]
  },
  {
   "cell_type": "code",
   "execution_count": 27,
   "id": "e94fb48f",
   "metadata": {},
   "outputs": [
    {
     "name": "stdout",
     "output_type": "stream",
     "text": [
      "Precision: 0.829\n"
     ]
    }
   ],
   "source": [
    "# Calculate precision for No Dev\n",
    "precision = true_positive / (true_positive + false_positive)\n",
    "print(f\"Precision: {precision:.3f}\")"
   ]
  },
  {
   "cell_type": "code",
   "execution_count": 28,
   "id": "91dcb2e7",
   "metadata": {},
   "outputs": [
    {
     "name": "stdout",
     "output_type": "stream",
     "text": [
      "Recall: 0.999\n"
     ]
    }
   ],
   "source": [
    "# Calculate recall for No Dev\n",
    "recall = true_positive / (true_positive + false_negative)\n",
    "print(f\"Recall: {recall:.3f}\")"
   ]
  },
  {
   "cell_type": "markdown",
   "id": "ea1cdc7d",
   "metadata": {},
   "source": [
    "# AUC_ROC"
   ]
  },
  {
   "cell_type": "code",
   "execution_count": 29,
   "id": "6ce990f6",
   "metadata": {},
   "outputs": [
    {
     "data": {
      "image/png": "[encoded data removed]",
      "text/plain": [
       "<Figure size 640x480 with 1 Axes>"
      ]
     },
     "metadata": {},
     "output_type": "display_data"
    },
    {
     "name": "stdout",
     "output_type": "stream",
     "text": [
      "ROC AUC: 0.904\n"
     ]
    }
   ],
   "source": [
    "# UPDATED\n",
    "\n",
    "import numpy as np\n",
    "from sklearn.metrics import roc_curve, roc_auc_score\n",
    "import matplotlib.pyplot as plt\n",
    "\n",
    "# Assuming 'results' is your DataFrame and 'distance' is the score to predict conformity\n",
    "\n",
    "# Inverting the 'distance' scores because higher scores indicate non-conformity\n",
    "# We invert the scores for ROC AUC calculation because roc_auc_score expects higher values\n",
    "# to indicate higher likelihood of the positive class\n",
    "inverted_scores = 1 - results['distance']\n",
    "\n",
    "# Calculate the ROC curve and AUC using inverted scores\n",
    "fpr, tpr, thresholds = roc_curve(results['conform'], inverted_scores, pos_label=1)\n",
    "roc_auc = roc_auc_score(results['conform'], inverted_scores)\n",
    "\n",
    "# Plot ROC curve\n",
    "plt.figure()\n",
    "plt.plot(fpr, tpr, color='orange', label=f'ROC curve (area = {roc_auc:0.2f})')\n",
    "plt.plot([0, 1], [0, 1], color='darkblue', linestyle='--')\n",
    "plt.xlabel('False Positive Rate')\n",
    "plt.ylabel('True Positive Rate')\n",
    "plt.title('Receiver Operating Characteristic (ROC) Curve')\n",
    "plt.legend(loc='lower right')\n",
    "plt.show()\n",
    "\n",
    "# Print the AUC\n",
    "print(f\"ROC AUC: {roc_auc:.3f}\")"
   ]
  }
 ],
 "metadata": {
  "kernelspec": {
   "display_name": "Python 3 (ipykernel)",
   "language": "python",
   "name": "python3"
  },
  "language_info": {
   "codemirror_mode": {
    "name": "ipython",
    "version": 3
   },
   "file_extension": ".py",
   "mimetype": "text/x-python",
   "name": "python",
   "nbconvert_exporter": "python",
   "pygments_lexer": "ipython3",
   "version": "3.11.5"
  }
 },
 "nbformat": 4,
 "nbformat_minor": 5
}
